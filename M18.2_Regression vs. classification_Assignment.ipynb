{
 "cells": [
  {
   "cell_type": "markdown",
   "metadata": {},
   "source": [
    "For each of the following situations, decide if you would model using a regression or classification model. Discuss your reasoning with your mentor next time you meet.\n",
    "\n",
    "1. The amount a person will spend on a given site in the next 24 months.\n",
    "2. What color car someone is going to buy.\n",
    "3. How many children a family will have.\n",
    "4. If someone will sign up for a service.\n",
    "5. The number of times someone will get sick in a year.\n",
    "6. The probability someone will get sick in the next month.\n",
    "7. Which medicine will work best for a given patient."
   ]
  },
  {
   "cell_type": "markdown",
   "metadata": {},
   "source": [
    "### 1. The amount a person will spend on a given site in the next 24 months.\n",
    "\n",
    "The big difference between regression and classification model is that If the results would not be known, then we could not figure out the results.  \n",
    "\n",
    "In this reason, this one there will be not predefined result. So it is better to use regression for this case"
   ]
  },
  {
   "cell_type": "markdown",
   "metadata": {},
   "source": [
    "### 2. What color car someone is going to buy."
   ]
  },
  {
   "cell_type": "markdown",
   "metadata": {},
   "source": [
    "In this case, we can use both methods.  \n",
    "If we use regression method, we could know how many people will buy a car by colors.  \n",
    "If we use classification method, before we start out, we should designate some colors that are already selling now. Then we could know the likelihood by each color."
   ]
  },
  {
   "cell_type": "markdown",
   "metadata": {},
   "source": [
    "### 3. How many children a family will have."
   ]
  },
  {
   "cell_type": "markdown",
   "metadata": {},
   "source": [
    "In this case, It will be nice to use classification method. Because the only problem would be some people who want to have a lot of children, maybe over 10. However, whether we use classification method or not, if we would get the big number, we would dispose the data as regarded it as outlier values.  \n",
    "In this reason, there will be not so much outputs. So, classification would be a great method."
   ]
  },
  {
   "cell_type": "markdown",
   "metadata": {},
   "source": [
    "### 4. If someone will sign up for a service.\n",
    "\n",
    "Classification Method.  \n",
    "Because there will be 'yes' or 'no' or 'unknown' answers."
   ]
  },
  {
   "cell_type": "markdown",
   "metadata": {},
   "source": [
    "### 5. The number of times someone will get sick in a year.\n",
    "\n",
    "Like  #2 question both methods are available.\n",
    " - Classification : we could confine the output from 0 to 10. \n",
    " - Regression : we would not limit the output and get a graph to put the result on it."
   ]
  },
  {
   "cell_type": "markdown",
   "metadata": {},
   "source": [
    "### 6. The probability someone will get sick in the next month.\n",
    "\n",
    "Like #4 question both methods are available."
   ]
  },
  {
   "cell_type": "markdown",
   "metadata": {},
   "source": [
    "### 7. Which medicine will work best for a given patient.\n",
    "\n",
    "Classification Method.\n",
    "Because there will be some limited types of medicine. So, set the output with several of the type and get some result according to the output."
   ]
  },
  {
   "cell_type": "code",
   "execution_count": null,
   "metadata": {},
   "outputs": [],
   "source": []
  }
 ],
 "metadata": {
  "kernelspec": {
   "display_name": "Python 3",
   "language": "python",
   "name": "python3"
  },
  "language_info": {
   "codemirror_mode": {
    "name": "ipython",
    "version": 3
   },
   "file_extension": ".py",
   "mimetype": "text/x-python",
   "name": "python",
   "nbconvert_exporter": "python",
   "pygments_lexer": "ipython3",
   "version": "3.7.3"
  }
 },
 "nbformat": 4,
 "nbformat_minor": 2
}
