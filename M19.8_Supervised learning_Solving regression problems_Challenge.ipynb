{
 "cells": [
  {
   "cell_type": "markdown",
   "metadata": {},
   "source": [
    "## Steps\n",
    "\n",
    "1. Load the houseprices data from Thinkful's database.\n",
    "2. Do data cleaning, exploratory data analysis, and feature engineering. You can use your previous work in this module. But make sure that your work is satisfactory.\n",
    "3. Now, split your data into train and test sets where 20% of the data resides in the test set.\n",
    "4. Build several linear regression models including Lasso, Ridge, or ElasticNet and train them in the training set. Use k-fold cross-validation to select the best hyperparameters if your models include one!\n",
    "5. Evaluate your best model on the test set.\n",
    "6. So far, you have only used the features in the dataset. However, house prices can be affected by many factors like economic activity and the interest rates at the time they are sold. So, try to find some useful factors that are not included in the dataset. Integrate these factors into your model and assess the prediction performance of your model. Discuss the implications of adding these external variables into your model."
   ]
  },
  {
   "cell_type": "markdown",
   "metadata": {},
   "source": [
    "**Step 1. Load the houseprices data from Thinkful's database.**"
   ]
  },
  {
   "cell_type": "code",
   "execution_count": 1,
   "metadata": {
    "scrolled": true
   },
   "outputs": [
    {
     "data": {
      "text/html": [
       "<div>\n",
       "<style scoped>\n",
       "    .dataframe tbody tr th:only-of-type {\n",
       "        vertical-align: middle;\n",
       "    }\n",
       "\n",
       "    .dataframe tbody tr th {\n",
       "        vertical-align: top;\n",
       "    }\n",
       "\n",
       "    .dataframe thead th {\n",
       "        text-align: right;\n",
       "    }\n",
       "</style>\n",
       "<table border=\"1\" class=\"dataframe\">\n",
       "  <thead>\n",
       "    <tr style=\"text-align: right;\">\n",
       "      <th></th>\n",
       "      <th>id</th>\n",
       "      <th>mssubclass</th>\n",
       "      <th>mszoning</th>\n",
       "      <th>lotfrontage</th>\n",
       "      <th>lotarea</th>\n",
       "      <th>street</th>\n",
       "      <th>alley</th>\n",
       "      <th>lotshape</th>\n",
       "      <th>landcontour</th>\n",
       "      <th>utilities</th>\n",
       "      <th>...</th>\n",
       "      <th>poolarea</th>\n",
       "      <th>poolqc</th>\n",
       "      <th>fence</th>\n",
       "      <th>miscfeature</th>\n",
       "      <th>miscval</th>\n",
       "      <th>mosold</th>\n",
       "      <th>yrsold</th>\n",
       "      <th>saletype</th>\n",
       "      <th>salecondition</th>\n",
       "      <th>saleprice</th>\n",
       "    </tr>\n",
       "  </thead>\n",
       "  <tbody>\n",
       "    <tr>\n",
       "      <th>0</th>\n",
       "      <td>1</td>\n",
       "      <td>60</td>\n",
       "      <td>RL</td>\n",
       "      <td>65.0</td>\n",
       "      <td>8450</td>\n",
       "      <td>Pave</td>\n",
       "      <td>None</td>\n",
       "      <td>Reg</td>\n",
       "      <td>Lvl</td>\n",
       "      <td>AllPub</td>\n",
       "      <td>...</td>\n",
       "      <td>0</td>\n",
       "      <td>None</td>\n",
       "      <td>None</td>\n",
       "      <td>None</td>\n",
       "      <td>0</td>\n",
       "      <td>2</td>\n",
       "      <td>2008</td>\n",
       "      <td>WD</td>\n",
       "      <td>Normal</td>\n",
       "      <td>208500</td>\n",
       "    </tr>\n",
       "    <tr>\n",
       "      <th>1</th>\n",
       "      <td>2</td>\n",
       "      <td>20</td>\n",
       "      <td>RL</td>\n",
       "      <td>80.0</td>\n",
       "      <td>9600</td>\n",
       "      <td>Pave</td>\n",
       "      <td>None</td>\n",
       "      <td>Reg</td>\n",
       "      <td>Lvl</td>\n",
       "      <td>AllPub</td>\n",
       "      <td>...</td>\n",
       "      <td>0</td>\n",
       "      <td>None</td>\n",
       "      <td>None</td>\n",
       "      <td>None</td>\n",
       "      <td>0</td>\n",
       "      <td>5</td>\n",
       "      <td>2007</td>\n",
       "      <td>WD</td>\n",
       "      <td>Normal</td>\n",
       "      <td>181500</td>\n",
       "    </tr>\n",
       "    <tr>\n",
       "      <th>2</th>\n",
       "      <td>3</td>\n",
       "      <td>60</td>\n",
       "      <td>RL</td>\n",
       "      <td>68.0</td>\n",
       "      <td>11250</td>\n",
       "      <td>Pave</td>\n",
       "      <td>None</td>\n",
       "      <td>IR1</td>\n",
       "      <td>Lvl</td>\n",
       "      <td>AllPub</td>\n",
       "      <td>...</td>\n",
       "      <td>0</td>\n",
       "      <td>None</td>\n",
       "      <td>None</td>\n",
       "      <td>None</td>\n",
       "      <td>0</td>\n",
       "      <td>9</td>\n",
       "      <td>2008</td>\n",
       "      <td>WD</td>\n",
       "      <td>Normal</td>\n",
       "      <td>223500</td>\n",
       "    </tr>\n",
       "    <tr>\n",
       "      <th>3</th>\n",
       "      <td>4</td>\n",
       "      <td>70</td>\n",
       "      <td>RL</td>\n",
       "      <td>60.0</td>\n",
       "      <td>9550</td>\n",
       "      <td>Pave</td>\n",
       "      <td>None</td>\n",
       "      <td>IR1</td>\n",
       "      <td>Lvl</td>\n",
       "      <td>AllPub</td>\n",
       "      <td>...</td>\n",
       "      <td>0</td>\n",
       "      <td>None</td>\n",
       "      <td>None</td>\n",
       "      <td>None</td>\n",
       "      <td>0</td>\n",
       "      <td>2</td>\n",
       "      <td>2006</td>\n",
       "      <td>WD</td>\n",
       "      <td>Abnorml</td>\n",
       "      <td>140000</td>\n",
       "    </tr>\n",
       "    <tr>\n",
       "      <th>4</th>\n",
       "      <td>5</td>\n",
       "      <td>60</td>\n",
       "      <td>RL</td>\n",
       "      <td>84.0</td>\n",
       "      <td>14260</td>\n",
       "      <td>Pave</td>\n",
       "      <td>None</td>\n",
       "      <td>IR1</td>\n",
       "      <td>Lvl</td>\n",
       "      <td>AllPub</td>\n",
       "      <td>...</td>\n",
       "      <td>0</td>\n",
       "      <td>None</td>\n",
       "      <td>None</td>\n",
       "      <td>None</td>\n",
       "      <td>0</td>\n",
       "      <td>12</td>\n",
       "      <td>2008</td>\n",
       "      <td>WD</td>\n",
       "      <td>Normal</td>\n",
       "      <td>250000</td>\n",
       "    </tr>\n",
       "  </tbody>\n",
       "</table>\n",
       "<p>5 rows × 81 columns</p>\n",
       "</div>"
      ],
      "text/plain": [
       "   id  mssubclass mszoning  lotfrontage  lotarea street alley lotshape  \\\n",
       "0   1          60       RL         65.0     8450   Pave  None      Reg   \n",
       "1   2          20       RL         80.0     9600   Pave  None      Reg   \n",
       "2   3          60       RL         68.0    11250   Pave  None      IR1   \n",
       "3   4          70       RL         60.0     9550   Pave  None      IR1   \n",
       "4   5          60       RL         84.0    14260   Pave  None      IR1   \n",
       "\n",
       "  landcontour utilities  ... poolarea poolqc fence miscfeature miscval mosold  \\\n",
       "0         Lvl    AllPub  ...        0   None  None        None       0      2   \n",
       "1         Lvl    AllPub  ...        0   None  None        None       0      5   \n",
       "2         Lvl    AllPub  ...        0   None  None        None       0      9   \n",
       "3         Lvl    AllPub  ...        0   None  None        None       0      2   \n",
       "4         Lvl    AllPub  ...        0   None  None        None       0     12   \n",
       "\n",
       "  yrsold  saletype  salecondition  saleprice  \n",
       "0   2008        WD         Normal     208500  \n",
       "1   2007        WD         Normal     181500  \n",
       "2   2008        WD         Normal     223500  \n",
       "3   2006        WD        Abnorml     140000  \n",
       "4   2008        WD         Normal     250000  \n",
       "\n",
       "[5 rows x 81 columns]"
      ]
     },
     "execution_count": 1,
     "metadata": {},
     "output_type": "execute_result"
    }
   ],
   "source": [
    "# Load the houseprices data from Thinkful's database.\n",
    "import numpy as np\n",
    "import pandas as pd\n",
    "import matplotlib.pyplot as plt\n",
    "import statsmodels.api as sm\n",
    "from sklearn import linear_model\n",
    "from sklearn.model_selection import train_test_split\n",
    "from sklearn.metrics import mean_absolute_error\n",
    "from statsmodels.tools.eval_measures import mse, rmse\n",
    "from sqlalchemy import create_engine\n",
    "\n",
    "import warnings\n",
    "warnings.filterwarnings('ignore')\n",
    "\n",
    "postgres_user = 'dsbc_student'  \n",
    "postgres_pw = '7*.8G9QH21'  \n",
    "postgres_host = '142.93.121.174'  \n",
    "postgres_port = '5432'  \n",
    "postgres_db = 'houseprices'\n",
    "\n",
    "engine = create_engine('postgresql://{}:{}@{}:{}/{}'.format(\n",
    "    postgres_user, postgres_pw, postgres_host, postgres_port, postgres_db))\n",
    "\n",
    "hp_df = pd.read_sql_query('select * from houseprices', con=engine)\n",
    "engine.dispose()\n",
    "\n",
    "hp_df.head()"
   ]
  },
  {
   "cell_type": "markdown",
   "metadata": {},
   "source": [
    "**Step 2. Do data cleaning, exploratory data analysis, and feature engineering. You can use your previous work in this module. But make sure that your work is satisfactory.**\n",
    "\n",
    "The features were selected by this analysis. Refer to this link https://github.com/feelopk/Thinkful/blob/master/M19.3_Meeting%20the%20assumptions%20of%20linear%20regression_Assignment%202%20(House%20prices).ipynb"
   ]
  },
  {
   "cell_type": "code",
   "execution_count": 2,
   "metadata": {},
   "outputs": [],
   "source": [
    "hp_sel = hp_df[['saleprice', 'lotfrontage', 'lotarea', 'masvnrarea', 'bsmtfinsf1', \n",
    "                'totalbsmtsf', 'firstflrsf', 'secondflrsf', 'grlivarea', 'garagearea']]\n",
    "hp_sel.replace(0, 1, inplace=True)\n",
    "hp_sel.fillna(1, inplace=True)\n",
    "hp_sellog = np.log(hp_sel)\n",
    "hp_sellog_picked = hp_sellog[['saleprice', 'firstflrsf', 'grlivarea']]"
   ]
  },
  {
   "cell_type": "markdown",
   "metadata": {},
   "source": [
    "**Step 3. Now, split your data into train and test sets where 20% of the data resides in the test set.**"
   ]
  },
  {
   "cell_type": "code",
   "execution_count": 3,
   "metadata": {},
   "outputs": [
    {
     "name": "stdout",
     "output_type": "stream",
     "text": [
      "The number of observations in the training set is 1168\n",
      "The number of observations in the test set is 292\n"
     ]
    }
   ],
   "source": [
    "X = hp_sellog_picked[['firstflrsf', 'grlivarea']]\n",
    "Y = hp_sellog_picked['saleprice']\n",
    "\n",
    "X_train, X_test, y_train, y_test = train_test_split(X, Y, test_size=0.2, random_state=42)\n",
    "\n",
    "print(\"The number of observations in the training set is {}\".format(X_train.shape[0]))\n",
    "print(\"The number of observations in the test set is {}\".format(X_test.shape[0]))"
   ]
  },
  {
   "cell_type": "markdown",
   "metadata": {},
   "source": [
    "**Step 4. Build several linear regression models including Lasso, Ridge, or ElasticNet and train them in the training set. Use k-fold cross-validation to select the best hyperparameters if your models include one!**"
   ]
  },
  {
   "cell_type": "markdown",
   "metadata": {},
   "source": [
    "1. Let's start with OLS regression."
   ]
  },
  {
   "cell_type": "code",
   "execution_count": 4,
   "metadata": {},
   "outputs": [
    {
     "name": "stdout",
     "output_type": "stream",
     "text": [
      "R-squared of the model in the training set is: 0.5830986251228254 \n",
      "\n",
      "-----Test set statistics-----\n",
      "R-squared of the model in the test set is: 0.6336389874815189\n",
      "Mean absolute error of the prediction is: 0.19571141237787565\n",
      "Mean squared error of the prediction is: 0.06708278197141096\n",
      "Root mean squared error of the prediction is: 0.25900344007640314\n",
      "Mean absolute percentage error of the prediction is: 1.6423068988146043\n"
     ]
    }
   ],
   "source": [
    "from sklearn import linear_model\n",
    "lrm = linear_model.LinearRegression()\n",
    "lrm.fit(X_train, y_train)\n",
    "\n",
    "lrm_y_train = lrm.predict(X_train)\n",
    "lrm_y_test = lrm.predict(X_test)\n",
    "\n",
    "print(\"R-squared of the model in the training set is: {}\".format(lrm.score(X_train, y_train)), '\\n')\n",
    "print(\"-----Test set statistics-----\")\n",
    "print(\"R-squared of the model in the test set is: {}\".format(lrm.score(X_test, y_test)))\n",
    "print(\"Mean absolute error of the prediction is: {}\".format(mean_absolute_error(y_test, lrm_y_test)))\n",
    "print(\"Mean squared error of the prediction is: {}\".format(mse(y_test, lrm_y_test)))\n",
    "print(\"Root mean squared error of the prediction is: {}\".format(rmse(y_test, lrm_y_test)))\n",
    "print(\"Mean absolute percentage error of the prediction is: {}\".format(np.mean(np.abs((y_test - lrm_y_test) / y_test)) * 100))"
   ]
  },
  {
   "cell_type": "markdown",
   "metadata": {},
   "source": [
    "2. This time, I will do Ridge Regression with built in cross-validation method."
   ]
  },
  {
   "cell_type": "code",
   "execution_count": 5,
   "metadata": {},
   "outputs": [
    {
     "name": "stdout",
     "output_type": "stream",
     "text": [
      "Best alpha value is: 1.0\n",
      "R-squared of the model in the training set is: 0.5830787509561941 \n",
      "\n",
      "-----Test set statistics-----\n",
      "R-squared of the model in the test set is: 0.6331752844249631\n",
      "Mean absolute error of the prediction is: 0.19572859989654126\n",
      "Mean squared error of the prediction is: 0.06716768863445514\n",
      "Root mean squared error of the prediction is: 0.2591672985437305\n",
      "Mean absolute percentage error of the prediction is: 1.6423620289718905\n"
     ]
    }
   ],
   "source": [
    "alphas = [np.power(10.0, p) for p in np.arange(-10, 40, 1)]\n",
    "\n",
    "rgm_cv = linear_model.RidgeCV(alphas=alphas, cv=5)\n",
    "rgm_cv.fit(X_train, y_train)\n",
    "\n",
    "rgm_y_train = rgm_cv.predict(X_train)\n",
    "rgm_y_test = rgm_cv.predict(X_test)\n",
    "\n",
    "print(\"Best alpha value is: {}\".format(rgm_cv.alpha_))\n",
    "print(\"R-squared of the model in the training set is: {}\".format(rgm_cv.score(X_train, y_train)), '\\n')\n",
    "print(\"-----Test set statistics-----\")\n",
    "print(\"R-squared of the model in the test set is: {}\".format(rgm_cv.score(X_test, y_test)))\n",
    "print(\"Mean absolute error of the prediction is: {}\".format(mean_absolute_error(y_test, rgm_y_test)))\n",
    "print(\"Mean squared error of the prediction is: {}\".format(mse(y_test, rgm_y_test)))\n",
    "print(\"Root mean squared error of the prediction is: {}\".format(rmse(y_test, rgm_y_test)))\n",
    "print(\"Mean absolute percentage error of the prediction is: {}\".format(np.mean(np.abs((y_test - rgm_y_test) / y_test)) * 100))"
   ]
  },
  {
   "cell_type": "markdown",
   "metadata": {},
   "source": [
    "3. This time, I will do Lasso Regression with built in cross-validation method."
   ]
  },
  {
   "cell_type": "code",
   "execution_count": 6,
   "metadata": {},
   "outputs": [
    {
     "name": "stdout",
     "output_type": "stream",
     "text": [
      "Best alpha value is: 1e-05\n",
      "R-squared of the model in the training set is: 0.5830986178623121 \n",
      "\n",
      "-----Test set statistics-----\n",
      "R-squared of the model in the test set is: 0.6336281381775515\n",
      "Mean absolute error of the prediction is: 0.19571225586548768\n",
      "Mean squared error of the prediction is: 0.06708476854058106\n",
      "Root mean squared error of the prediction is: 0.25900727507269183\n",
      "Mean absolute percentage error of the prediction is: 1.6423122948800752\n"
     ]
    }
   ],
   "source": [
    "lass_cv = linear_model.LassoCV(alphas=alphas, cv=5)\n",
    "lass_cv.fit(X_train, y_train)\n",
    "\n",
    "lass_y_train = lass_cv.predict(X_train)\n",
    "lass_y_test = lass_cv.predict(X_test)\n",
    "\n",
    "print(\"Best alpha value is: {}\".format(lass_cv.alpha_))\n",
    "print(\"R-squared of the model in the training set is: {}\".format(lass_cv.score(X_train, y_train)), '\\n')\n",
    "print(\"-----Test set statistics-----\")\n",
    "print(\"R-squared of the model in the test set is: {}\".format(lass_cv.score(X_test, y_test)))\n",
    "print(\"Mean absolute error of the prediction is: {}\".format(mean_absolute_error(y_test, lass_y_test)))\n",
    "print(\"Mean squared error of the prediction is: {}\".format(mse(y_test, lass_y_test)))\n",
    "print(\"Root mean squared error of the prediction is: {}\".format(rmse(y_test, lass_y_test)))\n",
    "print(\"Mean absolute percentage error of the prediction is: {}\".format(np.mean(np.abs((y_test - lass_y_test) / y_test)) * 100))"
   ]
  },
  {
   "cell_type": "markdown",
   "metadata": {},
   "source": [
    "4. This time, I will do ElasticNet Regression with built in cross-validation method."
   ]
  },
  {
   "cell_type": "code",
   "execution_count": 7,
   "metadata": {},
   "outputs": [
    {
     "name": "stdout",
     "output_type": "stream",
     "text": [
      "Best alpha value is: 0.0001\n",
      "R-squared of the model in the training set is: 0.5830981507304196 \n",
      "\n",
      "-----Test set statistics-----\n",
      "R-squared of the model in the test set is: 0.6335540250491034\n",
      "Mean absolute error of the prediction is: 0.1957172179351988\n",
      "Mean squared error of the prediction is: 0.0670983390752914\n",
      "Root mean squared error of the prediction is: 0.25903347095557244\n",
      "Mean absolute percentage error of the prediction is: 1.642341766621318\n"
     ]
    }
   ],
   "source": [
    "elanet_cv = linear_model.ElasticNetCV(alphas=alphas, cv=5)\n",
    "elanet_cv.fit(X_train, y_train)\n",
    "\n",
    "elanet_y_train = elanet_cv.predict(X_train)\n",
    "elanet_y_test = elanet_cv.predict(X_test)\n",
    "\n",
    "print(\"Best alpha value is: {}\".format(elanet_cv.alpha_))\n",
    "print(\"R-squared of the model in the training set is: {}\".format(elanet_cv.score(X_train, y_train)), '\\n')\n",
    "print(\"-----Test set statistics-----\")\n",
    "print(\"R-squared of the model in the test set is: {}\".format(elanet_cv.score(X_test, y_test)))\n",
    "print(\"Mean absolute error of the prediction is: {}\".format(mean_absolute_error(y_test, elanet_y_test)))\n",
    "print(\"Mean squared error of the prediction is: {}\".format(mse(y_test, elanet_y_test)))\n",
    "print(\"Root mean squared error of the prediction is: {}\".format(rmse(y_test, elanet_y_test)))\n",
    "print(\"Mean absolute percentage error of the prediction is: {}\".format(np.mean(np.abs((y_test - elanet_y_test) / y_test)) * 100))"
   ]
  },
  {
   "cell_type": "markdown",
   "metadata": {},
   "source": [
    "**Step 5. Evaluate your best model on the test set.**"
   ]
  },
  {
   "cell_type": "code",
   "execution_count": 8,
   "metadata": {},
   "outputs": [
    {
     "data": {
      "text/html": [
       "<div>\n",
       "<style scoped>\n",
       "    .dataframe tbody tr th:only-of-type {\n",
       "        vertical-align: middle;\n",
       "    }\n",
       "\n",
       "    .dataframe tbody tr th {\n",
       "        vertical-align: top;\n",
       "    }\n",
       "\n",
       "    .dataframe thead th {\n",
       "        text-align: right;\n",
       "    }\n",
       "</style>\n",
       "<table border=\"1\" class=\"dataframe\">\n",
       "  <thead>\n",
       "    <tr style=\"text-align: right;\">\n",
       "      <th></th>\n",
       "      <th>Best Alpha</th>\n",
       "      <th>R-square (Training)</th>\n",
       "      <th>R-square (Test)</th>\n",
       "      <th>MAE</th>\n",
       "      <th>MSE</th>\n",
       "      <th>RMSE</th>\n",
       "      <th>MAPE</th>\n",
       "    </tr>\n",
       "  </thead>\n",
       "  <tbody>\n",
       "    <tr>\n",
       "      <th>OLS</th>\n",
       "      <td>0.00000</td>\n",
       "      <td>0.583099</td>\n",
       "      <td>0.633639</td>\n",
       "      <td>0.195711</td>\n",
       "      <td>0.067083</td>\n",
       "      <td>0.259003</td>\n",
       "      <td>1.642307</td>\n",
       "    </tr>\n",
       "    <tr>\n",
       "      <th>Ridge</th>\n",
       "      <td>1.00000</td>\n",
       "      <td>0.583079</td>\n",
       "      <td>0.633175</td>\n",
       "      <td>0.195729</td>\n",
       "      <td>0.067168</td>\n",
       "      <td>0.259167</td>\n",
       "      <td>1.642362</td>\n",
       "    </tr>\n",
       "    <tr>\n",
       "      <th>Lasso</th>\n",
       "      <td>0.00001</td>\n",
       "      <td>0.583099</td>\n",
       "      <td>0.633628</td>\n",
       "      <td>0.195712</td>\n",
       "      <td>0.067085</td>\n",
       "      <td>0.259007</td>\n",
       "      <td>1.642312</td>\n",
       "    </tr>\n",
       "    <tr>\n",
       "      <th>ElasticNet</th>\n",
       "      <td>0.00010</td>\n",
       "      <td>0.583098</td>\n",
       "      <td>0.633554</td>\n",
       "      <td>0.195717</td>\n",
       "      <td>0.067098</td>\n",
       "      <td>0.259033</td>\n",
       "      <td>1.642342</td>\n",
       "    </tr>\n",
       "  </tbody>\n",
       "</table>\n",
       "</div>"
      ],
      "text/plain": [
       "            Best Alpha  R-square (Training)  R-square (Test)       MAE  \\\n",
       "OLS            0.00000             0.583099         0.633639  0.195711   \n",
       "Ridge          1.00000             0.583079         0.633175  0.195729   \n",
       "Lasso          0.00001             0.583099         0.633628  0.195712   \n",
       "ElasticNet     0.00010             0.583098         0.633554  0.195717   \n",
       "\n",
       "                 MSE      RMSE      MAPE  \n",
       "OLS         0.067083  0.259003  1.642307  \n",
       "Ridge       0.067168  0.259167  1.642362  \n",
       "Lasso       0.067085  0.259007  1.642312  \n",
       "ElasticNet  0.067098  0.259033  1.642342  "
      ]
     },
     "execution_count": 8,
     "metadata": {},
     "output_type": "execute_result"
    }
   ],
   "source": [
    "# Let's make table to look around at a glance. \n",
    "\n",
    "OLS = [0, 0.5830986251228254, 0.6336389874815189, 0.19571141237787565, 0.06708278197141096, 0.25900344007640314, 1.6423068988146043]\n",
    "Ridge = [1.0, 0.5830787509561941 , 0.6331752844249631, 0.19572859989654126, 0.06716768863445514, 0.2591672985437305, 1.6423620289718905]\n",
    "Lasso = [1e-05, 0.5830986178623121 , 0.6336281381775515, 0.19571225586548768, 0.06708476854058106, 0.25900727507269183, 1.6423122948800752]\n",
    "ElasticNet = [0.0001, 0.5830981507304196, 0.6335540250491034, 0.1957172179351988, 0.0670983390752914, 0.25903347095557244, 1.642341766621318]\n",
    "\n",
    "data = [OLS, Ridge, Lasso, ElasticNet]\n",
    "index_name = ['OLS', 'Ridge', 'Lasso', 'ElasticNet']\n",
    "col_name = ['Best Alpha', 'R-square (Training)', 'R-square (Test)', 'MAE', 'MSE', 'RMSE', 'MAPE']\n",
    "table = pd.DataFrame(data, index=index_name, columns=col_name)\n",
    "table"
   ]
  },
  {
   "cell_type": "code",
   "execution_count": 9,
   "metadata": {},
   "outputs": [
    {
     "data": {
      "text/html": [
       "<div>\n",
       "<style scoped>\n",
       "    .dataframe tbody tr th:only-of-type {\n",
       "        vertical-align: middle;\n",
       "    }\n",
       "\n",
       "    .dataframe tbody tr th {\n",
       "        vertical-align: top;\n",
       "    }\n",
       "\n",
       "    .dataframe thead th {\n",
       "        text-align: right;\n",
       "    }\n",
       "</style>\n",
       "<table border=\"1\" class=\"dataframe\">\n",
       "  <thead>\n",
       "    <tr style=\"text-align: right;\">\n",
       "      <th></th>\n",
       "      <th>Best Alpha</th>\n",
       "      <th>R-square (Training)</th>\n",
       "      <th>R-square (Test)</th>\n",
       "      <th>MAE</th>\n",
       "      <th>MSE</th>\n",
       "      <th>RMSE</th>\n",
       "      <th>MAPE</th>\n",
       "    </tr>\n",
       "  </thead>\n",
       "  <tbody>\n",
       "    <tr>\n",
       "      <th>count</th>\n",
       "      <td>4.000000</td>\n",
       "      <td>4.000000</td>\n",
       "      <td>4.000000</td>\n",
       "      <td>4.000000</td>\n",
       "      <td>4.000000</td>\n",
       "      <td>4.000000</td>\n",
       "      <td>4.000000</td>\n",
       "    </tr>\n",
       "    <tr>\n",
       "      <th>mean</th>\n",
       "      <td>0.250028</td>\n",
       "      <td>0.583094</td>\n",
       "      <td>0.633499</td>\n",
       "      <td>0.195717</td>\n",
       "      <td>0.067108</td>\n",
       "      <td>0.259053</td>\n",
       "      <td>1.642331</td>\n",
       "    </tr>\n",
       "    <tr>\n",
       "      <th>std</th>\n",
       "      <td>0.499982</td>\n",
       "      <td>0.000010</td>\n",
       "      <td>0.000219</td>\n",
       "      <td>0.000008</td>\n",
       "      <td>0.000040</td>\n",
       "      <td>0.000077</td>\n",
       "      <td>0.000026</td>\n",
       "    </tr>\n",
       "    <tr>\n",
       "      <th>min</th>\n",
       "      <td>0.000000</td>\n",
       "      <td>0.583079</td>\n",
       "      <td>0.633175</td>\n",
       "      <td>0.195711</td>\n",
       "      <td>0.067083</td>\n",
       "      <td>0.259003</td>\n",
       "      <td>1.642307</td>\n",
       "    </tr>\n",
       "    <tr>\n",
       "      <th>25%</th>\n",
       "      <td>0.000008</td>\n",
       "      <td>0.583093</td>\n",
       "      <td>0.633459</td>\n",
       "      <td>0.195712</td>\n",
       "      <td>0.067084</td>\n",
       "      <td>0.259006</td>\n",
       "      <td>1.642311</td>\n",
       "    </tr>\n",
       "    <tr>\n",
       "      <th>50%</th>\n",
       "      <td>0.000055</td>\n",
       "      <td>0.583098</td>\n",
       "      <td>0.633591</td>\n",
       "      <td>0.195715</td>\n",
       "      <td>0.067092</td>\n",
       "      <td>0.259020</td>\n",
       "      <td>1.642327</td>\n",
       "    </tr>\n",
       "    <tr>\n",
       "      <th>75%</th>\n",
       "      <td>0.250075</td>\n",
       "      <td>0.583099</td>\n",
       "      <td>0.633631</td>\n",
       "      <td>0.195720</td>\n",
       "      <td>0.067116</td>\n",
       "      <td>0.259067</td>\n",
       "      <td>1.642347</td>\n",
       "    </tr>\n",
       "    <tr>\n",
       "      <th>max</th>\n",
       "      <td>1.000000</td>\n",
       "      <td>0.583099</td>\n",
       "      <td>0.633639</td>\n",
       "      <td>0.195729</td>\n",
       "      <td>0.067168</td>\n",
       "      <td>0.259167</td>\n",
       "      <td>1.642362</td>\n",
       "    </tr>\n",
       "  </tbody>\n",
       "</table>\n",
       "</div>"
      ],
      "text/plain": [
       "       Best Alpha  R-square (Training)  R-square (Test)       MAE       MSE  \\\n",
       "count    4.000000             4.000000         4.000000  4.000000  4.000000   \n",
       "mean     0.250028             0.583094         0.633499  0.195717  0.067108   \n",
       "std      0.499982             0.000010         0.000219  0.000008  0.000040   \n",
       "min      0.000000             0.583079         0.633175  0.195711  0.067083   \n",
       "25%      0.000008             0.583093         0.633459  0.195712  0.067084   \n",
       "50%      0.000055             0.583098         0.633591  0.195715  0.067092   \n",
       "75%      0.250075             0.583099         0.633631  0.195720  0.067116   \n",
       "max      1.000000             0.583099         0.633639  0.195729  0.067168   \n",
       "\n",
       "           RMSE      MAPE  \n",
       "count  4.000000  4.000000  \n",
       "mean   0.259053  1.642331  \n",
       "std    0.000077  0.000026  \n",
       "min    0.259003  1.642307  \n",
       "25%    0.259006  1.642311  \n",
       "50%    0.259020  1.642327  \n",
       "75%    0.259067  1.642347  \n",
       "max    0.259167  1.642362  "
      ]
     },
     "execution_count": 9,
     "metadata": {},
     "output_type": "execute_result"
    }
   ],
   "source": [
    "table.describe()"
   ]
  },
  {
   "cell_type": "markdown",
   "metadata": {},
   "source": [
    "When you look into the data table, the goodness model would have the largest R-squared value of Test set. And the rest values must be smaller than any others.  \n",
    "**Then, the OLS model is the best model for this data set which is well presenting the outcome.**"
   ]
  },
  {
   "cell_type": "markdown",
   "metadata": {},
   "source": [
    "**Step 6. So far, you have only used the features in the dataset. However, house prices can be affected by many factors like economic activity and the interest rates at the time they are sold. So, try to find some useful factors that are not included in the dataset. Integrate these factors into your model and assess the prediction performance of your model. Discuss the implications of adding these external variables into your model.**\n",
    "\n",
    "Okay, interest for buying a house, we uaually call it mortage seems like have a great impact on the sales price as you mentioned.  That's a good point.  \n",
    "So, I want to look into the influence of mortage rate to sale price.\n",
    "\n",
    "First of all, how many years of mortage rate should I get for the analysis?  \n",
    "Let's figure it out step by step."
   ]
  },
  {
   "cell_type": "code",
   "execution_count": 10,
   "metadata": {},
   "outputs": [
    {
     "data": {
      "text/plain": [
       "count    1460.000000\n",
       "mean     2007.815753\n",
       "std         1.328095\n",
       "min      2006.000000\n",
       "25%      2007.000000\n",
       "50%      2008.000000\n",
       "75%      2009.000000\n",
       "max      2010.000000\n",
       "Name: yrsold, dtype: float64"
      ]
     },
     "execution_count": 10,
     "metadata": {},
     "output_type": "execute_result"
    }
   ],
   "source": [
    "hp_df.yrsold.describe()"
   ]
  },
  {
   "cell_type": "markdown",
   "metadata": {},
   "source": [
    "Okay, I need to find out the mortage rate from 2006 to 2010. It's not big thing, just 5 years data.  \n",
    "\n",
    "And fortunately I got the data in a second by googling. Here is the [link](https://www.valuepenguin.com/mortgages/historical-mortgage-rates#nogo). I just want to narrow the case into30-Year Fixed-Rate Mortgages for more common analysis.  \n",
    "Let's bring the data into python."
   ]
  },
  {
   "cell_type": "code",
   "execution_count": 32,
   "metadata": {},
   "outputs": [
    {
     "data": {
      "text/html": [
       "<div>\n",
       "<style scoped>\n",
       "    .dataframe tbody tr th:only-of-type {\n",
       "        vertical-align: middle;\n",
       "    }\n",
       "\n",
       "    .dataframe tbody tr th {\n",
       "        vertical-align: top;\n",
       "    }\n",
       "\n",
       "    .dataframe thead th {\n",
       "        text-align: right;\n",
       "    }\n",
       "</style>\n",
       "<table border=\"1\" class=\"dataframe\">\n",
       "  <thead>\n",
       "    <tr style=\"text-align: right;\">\n",
       "      <th></th>\n",
       "      <th>Years</th>\n",
       "      <th>Interest Rate</th>\n",
       "    </tr>\n",
       "  </thead>\n",
       "  <tbody>\n",
       "    <tr>\n",
       "      <th>0</th>\n",
       "      <td>2006</td>\n",
       "      <td>6.41</td>\n",
       "    </tr>\n",
       "    <tr>\n",
       "      <th>1</th>\n",
       "      <td>2007</td>\n",
       "      <td>6.34</td>\n",
       "    </tr>\n",
       "    <tr>\n",
       "      <th>2</th>\n",
       "      <td>2008</td>\n",
       "      <td>6.03</td>\n",
       "    </tr>\n",
       "    <tr>\n",
       "      <th>3</th>\n",
       "      <td>2009</td>\n",
       "      <td>5.04</td>\n",
       "    </tr>\n",
       "    <tr>\n",
       "      <th>4</th>\n",
       "      <td>2010</td>\n",
       "      <td>4.69</td>\n",
       "    </tr>\n",
       "  </tbody>\n",
       "</table>\n",
       "</div>"
      ],
      "text/plain": [
       "   Years  Interest Rate\n",
       "0   2006           6.41\n",
       "1   2007           6.34\n",
       "2   2008           6.03\n",
       "3   2009           5.04\n",
       "4   2010           4.69"
      ]
     },
     "execution_count": 32,
     "metadata": {},
     "output_type": "execute_result"
    }
   ],
   "source": [
    "interest = {'Years' : [2006, 2007, 2008, 2009, 2010], 'Interest Rate':[6.41, 6.34, 6.03, 5.04, 4.69]}\n",
    "pd.DataFrame(interest)"
   ]
  },
  {
   "cell_type": "markdown",
   "metadata": {},
   "source": [
    "Now, let's duplicate the 'yrsold' column and replace the years to interest rate."
   ]
  },
  {
   "cell_type": "code",
   "execution_count": 39,
   "metadata": {},
   "outputs": [
    {
     "name": "stdout",
     "output_type": "stream",
     "text": [
      "The sum of the null values in interest rate column is : 0\n"
     ]
    },
    {
     "data": {
      "text/plain": [
       "0    6.03\n",
       "1    6.34\n",
       "2    6.03\n",
       "3    6.41\n",
       "4    6.03\n",
       "5    5.04\n",
       "6    6.34\n",
       "7    5.04\n",
       "8    6.03\n",
       "9    6.03\n",
       "Name: interest_rate, dtype: float64"
      ]
     },
     "execution_count": 39,
     "metadata": {},
     "output_type": "execute_result"
    }
   ],
   "source": [
    "hp_df['interest_rate'] = hp_df['yrsold'].copy()\n",
    "interest = [{2006:6.41, 2007:6.34, 2008:6.03, 2009:5.04}, {2010:4.69}]\n",
    "for a in interest:\n",
    "    hp_df['interest_rate'].replace(a, inplace=True)\n",
    "print('The sum of the null values in interest rate column is :', hp_df['interest_rate'].isnull().sum())\n",
    "hp_df['interest_rate'].head(10)"
   ]
  },
  {
   "cell_type": "markdown",
   "metadata": {},
   "source": [
    "Hume, It looks good.\n",
    "Now, check the data condition with some graph and if needed, let's do data cleaning."
   ]
  },
  {
   "cell_type": "code",
   "execution_count": 86,
   "metadata": {
    "scrolled": false
   },
   "outputs": [
    {
     "name": "stdout",
     "output_type": "stream",
     "text": [
      "This is Univariate Analysis of Interest Price variable\n"
     ]
    },
    {
     "data": {
      "image/png": "[encoded data removed]",
      "text/plain": [
       "<Figure size 1440x360 with 4 Axes>"
      ]
     },
     "metadata": {
      "needs_background": "light"
     },
     "output_type": "display_data"
    }
   ],
   "source": [
    "from scipy.stats import boxcox\n",
    "from scipy.stats.mstats import winsorize\n",
    "\n",
    "x = hp_df['saleprice']\n",
    "y = hp_df['interest_rate']\n",
    "plt.figure(figsize=(20,5))\n",
    "\n",
    "print('This is Univariate Analysis of Interest Price variable')\n",
    "plt.subplot(1, 4, 1)\n",
    "plt.hist(y, bins=20)\n",
    "plt.title('Histogram of Interest Rate')\n",
    "plt.xlabel('Interest Rate')\n",
    "plt.ylabel('Quantity')\n",
    "\n",
    "plt.subplot(1, 4, 2)\n",
    "plt.hist(np.log(y), bins=20)\n",
    "plt.title('Histogram of Log-scaled Interest Rate')\n",
    "plt.xlabel('Interest Rate')\n",
    "plt.ylabel('Quantity')\n",
    "\n",
    "plt.subplot(1, 4, 3)\n",
    "plt.hist(winsorize(y), bins=20)\n",
    "plt.title('Histogram of Winsorized Interest Rate')\n",
    "plt.xlabel('Interest Rate')\n",
    "plt.ylabel('Quantity')\n",
    "\n",
    "plt.subplot(1, 4, 4)\n",
    "plt.hist(boxcox(y)[0], bins=20)\n",
    "plt.title('Histogram of Boxcoxed Interest Rate')\n",
    "plt.xlabel('Interest Rate')\n",
    "plt.ylabel('Quantity')\n",
    "\n",
    "plt.show()"
   ]
  },
  {
   "cell_type": "code",
   "execution_count": 106,
   "metadata": {},
   "outputs": [
    {
     "name": "stdout",
     "output_type": "stream",
     "text": [
      "This is Bivariate Analysis between Several transformation of Interest Price variable and Log-scaled Sale Price\n"
     ]
    },
    {
     "data": {
      "image/png": "[encoded data removed]",
      "text/plain": [
       "<Figure size 1440x360 with 4 Axes>"
      ]
     },
     "metadata": {
      "needs_background": "light"
     },
     "output_type": "display_data"
    }
   ],
   "source": [
    "print('This is Bivariate Analysis between Several transformation of Interest Price variable and Log-scaled Sale Price')\n",
    "\n",
    "plt.figure(figsize=(20,5))\n",
    "plt.subplot(1, 4, 1)\n",
    "plt.scatter(np.log(x), y, linewidths=2)\n",
    "plt.title('Sale Price VS Interest Rate')\n",
    "plt.xlabel('Sale Price')\n",
    "plt.ylabel('Interest Rate')\n",
    "\n",
    "plt.subplot(1, 4, 2)\n",
    "plt.scatter(np.log(x), np.log(y), linewidths=2)\n",
    "plt.title('Log-scaled - Sale Price VS Interest Rate')\n",
    "plt.xlabel('Sale Price')\n",
    "plt.ylabel('Interest Rate')\n",
    "\n",
    "plt.subplot(1, 4, 3)\n",
    "plt.scatter(np.log(x), winsorize(y), linewidths=2)\n",
    "plt.title('Log-scaled - Sale Price VS Winsorized - Interest Rate')\n",
    "plt.xlabel('Sale Price')\n",
    "plt.ylabel('Interest Rate')\n",
    "\n",
    "plt.subplot(1, 4, 4)\n",
    "plt.scatter(np.log(x), boxcox(y)[0], linewidths=2)\n",
    "plt.title('Log-scaled - Sale Price VS Boxcoxed - Interest Rate')\n",
    "plt.xlabel('Sale Price')\n",
    "plt.ylabel('Interest Rate')\n",
    "\n",
    "plt.tight_layout()\n",
    "plt.show()"
   ]
  },
  {
   "cell_type": "markdown",
   "metadata": {},
   "source": [
    "Let's figure out the correlation between Sale Price and Interest Rate."
   ]
  },
  {
   "cell_type": "code",
   "execution_count": 105,
   "metadata": {},
   "outputs": [
    {
     "data": {
      "image/png": "[encoded data removed]",
      "text/plain": [
       "<Figure size 576x576 with 2 Axes>"
      ]
     },
     "metadata": {
      "needs_background": "light"
     },
     "output_type": "display_data"
    }
   ],
   "source": [
    "import scipy.stats as stats\n",
    "import seaborn as sns\n",
    "from sklearn.preprocessing import StandardScaler\n",
    "\n",
    "sale_interest = hp_df[['saleprice', 'interest_rate']]\n",
    "sale_interest_corr = hp_df[['saleprice', 'interest_rate']].corr()\n",
    "\n",
    "plt.figure(figsize=(8,8))\n",
    "sns.heatmap(sale_interest_corr, square=True, linewidths=0.5, annot=True, cmap='YlGnBu')\n",
    "plt.title('Raw Data Correlation')\n",
    "plt.show()"
   ]
  },
  {
   "cell_type": "markdown",
   "metadata": {},
   "source": [
    "With the correlation graph, Interest Rate variable seems that it could not be good feature. Because they are very unrelated.  \n",
    "Also, changing the variable with several method is not meaningful to make it more valueable.  \n",
    "\n",
    "However, let's put it(raw data) in the already collected features and find out another way to make it valuable."
   ]
  },
  {
   "cell_type": "code",
   "execution_count": 122,
   "metadata": {},
   "outputs": [],
   "source": [
    "hp_sellog_picked.insert(3, 'interest_rate', hp_df['interest_rate'])"
   ]
  },
  {
   "cell_type": "code",
   "execution_count": 124,
   "metadata": {},
   "outputs": [],
   "source": [
    "hp_sellog_picked_interest = hp_sellog_picked"
   ]
  },
  {
   "cell_type": "code",
   "execution_count": 126,
   "metadata": {},
   "outputs": [
    {
     "data": {
      "image/png": "[encoded data removed]",
      "text/plain": [
       "<Figure size 576x576 with 2 Axes>"
      ]
     },
     "metadata": {
      "needs_background": "light"
     },
     "output_type": "display_data"
    }
   ],
   "source": [
    "hp_sellog_picked_interest_corr = hp_sellog_picked_interest.corr()\n",
    "\n",
    "plt.figure(figsize=(8,8))\n",
    "sns.heatmap(hp_sellog_picked_interest_corr, square=True, linewidths=0.5, annot=True, cmap='YlGnBu')\n",
    "plt.title('Correlation')\n",
    "plt.show()"
   ]
  },
  {
   "cell_type": "markdown",
   "metadata": {},
   "source": [
    "There goes my last hope about Interest rate variable.  \n",
    "I really eager that the Interest rate variable shows me some kinds of magic like a surprise present with other features.  \n",
    "However, nothing special.  \n",
    "\n",
    "As we know, with lots of noise data could make the model overfitted. So, in this part let's figure out how this unrelated variable spoils the our goodness model what we make above.\n",
    "\n",
    "Okay, from now on, let's make models as I already did on the top."
   ]
  },
  {
   "cell_type": "code",
   "execution_count": 127,
   "metadata": {
    "scrolled": true
   },
   "outputs": [
    {
     "name": "stdout",
     "output_type": "stream",
     "text": [
      "The number of observations in the training set is 1168\n",
      "The number of observations in the test set is 292\n"
     ]
    }
   ],
   "source": [
    "X1 = hp_sellog_picked_interest[['firstflrsf', 'grlivarea', 'interest_rate']]\n",
    "Y1 = hp_sellog_picked_interest['saleprice']\n",
    "\n",
    "X1_train, X1_test, y1_train, y1_test = train_test_split(X1, Y1, test_size=0.2, random_state=42)\n",
    "\n",
    "print(\"The number of observations in the training set is {}\".format(X1_train.shape[0]))\n",
    "print(\"The number of observations in the test set is {}\".format(X1_test.shape[0]))"
   ]
  },
  {
   "cell_type": "markdown",
   "metadata": {},
   "source": [
    "1. Let's start with OLS regression."
   ]
  },
  {
   "cell_type": "code",
   "execution_count": 128,
   "metadata": {},
   "outputs": [
    {
     "name": "stdout",
     "output_type": "stream",
     "text": [
      "R-squared of the model in the training set is: 0.5832146675886636 \n",
      "\n",
      "-----Test set statistics-----\n",
      "R-squared of the model in the test set is: 0.634562074628402\n",
      "Mean absolute error of the prediction is: 0.19539245600399038\n",
      "Mean squared error of the prediction is: 0.0669137594725668\n",
      "Root mean squared error of the prediction is: 0.2586769403572085\n",
      "Mean absolute percentage error of the prediction is: 1.6396633142001356\n"
     ]
    }
   ],
   "source": [
    "lrm1 = linear_model.LinearRegression()\n",
    "lrm1.fit(X1_train, y1_train)\n",
    "\n",
    "lrm1_y1_train = lrm1.predict(X1_train)\n",
    "lrm1_y1_test = lrm1.predict(X1_test)\n",
    "\n",
    "print(\"R-squared of the model in the training set is: {}\".format(lrm1.score(X1_train, y1_train)), '\\n')\n",
    "print(\"-----Test set statistics-----\")\n",
    "print(\"R-squared of the model in the test set is: {}\".format(lrm1.score(X1_test, y1_test)))\n",
    "print(\"Mean absolute error of the prediction is: {}\".format(mean_absolute_error(y1_test, lrm1_y1_test)))\n",
    "print(\"Mean squared error of the prediction is: {}\".format(mse(y1_test, lrm1_y1_test)))\n",
    "print(\"Root mean squared error of the prediction is: {}\".format(rmse(y1_test, lrm1_y1_test)))\n",
    "print(\"Mean absolute percentage error of the prediction is: {}\".format(np.mean(np.abs((y1_test - lrm1_y1_test) / y1_test)) * 100))"
   ]
  },
  {
   "cell_type": "markdown",
   "metadata": {},
   "source": [
    "2. This time, I will do Ridge Regression with built in cross-validation method."
   ]
  },
  {
   "cell_type": "code",
   "execution_count": 130,
   "metadata": {},
   "outputs": [
    {
     "name": "stdout",
     "output_type": "stream",
     "text": [
      "Best alpha value is: 1.0\n",
      "R-squared of the model in the training set is: 0.5831948002991127 \n",
      "\n",
      "-----Test set statistics-----\n",
      "R-squared of the model in the test set is: 0.6341056990663082\n",
      "Mean absolute error of the prediction is: 0.1954173731834066\n",
      "Mean squared error of the prediction is: 0.06699732442976175\n",
      "Root mean squared error of the prediction is: 0.2588384137444861\n",
      "Mean absolute percentage error of the prediction is: 1.6397860097906276\n"
     ]
    }
   ],
   "source": [
    "rgm1_cv = linear_model.RidgeCV(alphas=alphas, cv=5)\n",
    "rgm1_cv.fit(X1_train, y1_train)\n",
    "\n",
    "rgm1_y1_train = rgm1_cv.predict(X1_train)\n",
    "rgm1_y1_test = rgm1_cv.predict(X1_test)\n",
    "\n",
    "print(\"Best alpha value is: {}\".format(rgm1_cv.alpha_))\n",
    "print(\"R-squared of the model in the training set is: {}\".format(rgm1_cv.score(X1_train, y1_train)), '\\n')\n",
    "print(\"-----Test set statistics-----\")\n",
    "print(\"R-squared of the model in the test set is: {}\".format(rgm1_cv.score(X1_test, y1_test)))\n",
    "print(\"Mean absolute error of the prediction is: {}\".format(mean_absolute_error(y1_test, rgm1_y1_test)))\n",
    "print(\"Mean squared error of the prediction is: {}\".format(mse(y1_test, rgm1_y1_test)))\n",
    "print(\"Root mean squared error of the prediction is: {}\".format(rmse(y1_test, rgm1_y1_test)))\n",
    "print(\"Mean absolute percentage error of the prediction is: {}\".format(np.mean(np.abs((y1_test - rgm1_y1_test) / y1_test)) * 100))"
   ]
  },
  {
   "cell_type": "markdown",
   "metadata": {},
   "source": [
    "3. This time, I will do Lasso Regression with built in cross-validation method."
   ]
  },
  {
   "cell_type": "code",
   "execution_count": 131,
   "metadata": {},
   "outputs": [
    {
     "name": "stdout",
     "output_type": "stream",
     "text": [
      "Best alpha value is: 0.001\n",
      "R-squared of the model in the training set is: 0.5831190394832557 \n",
      "\n",
      "-----Test set statistics-----\n",
      "R-squared of the model in the test set is: 0.6330020505341318\n",
      "Mean absolute error of the prediction is: 0.19564904160027383\n",
      "Mean squared error of the prediction is: 0.0671994087436687\n",
      "Root mean squared error of the prediction is: 0.25922848752339833\n",
      "Mean absolute percentage error of the prediction is: 1.641637047311248\n"
     ]
    }
   ],
   "source": [
    "lass1_cv = linear_model.LassoCV(alphas=alphas, cv=5)\n",
    "lass1_cv.fit(X1_train, y1_train)\n",
    "\n",
    "lass1_y1_train = lass1_cv.predict(X1_train)\n",
    "lass1_y1_test = lass1_cv.predict(X1_test)\n",
    "\n",
    "print(\"Best alpha value is: {}\".format(lass1_cv.alpha_))\n",
    "print(\"R-squared of the model in the training set is: {}\".format(lass1_cv.score(X1_train, y1_train)), '\\n')\n",
    "print(\"-----Test set statistics-----\")\n",
    "print(\"R-squared of the model in the test set is: {}\".format(lass1_cv.score(X1_test, y1_test)))\n",
    "print(\"Mean absolute error of the prediction is: {}\".format(mean_absolute_error(y1_test, lass1_y1_test)))\n",
    "print(\"Mean squared error of the prediction is: {}\".format(mse(y1_test, lass1_y1_test)))\n",
    "print(\"Root mean squared error of the prediction is: {}\".format(rmse(y1_test, lass1_y1_test)))\n",
    "print(\"Mean absolute percentage error of the prediction is: {}\".format(np.mean(np.abs((y1_test - lass1_y1_test) / y1_test)) * 100))"
   ]
  },
  {
   "cell_type": "markdown",
   "metadata": {},
   "source": [
    "4. This time, I will do ElasticNet Regression with built in cross-validation method."
   ]
  },
  {
   "cell_type": "code",
   "execution_count": 132,
   "metadata": {},
   "outputs": [
    {
     "name": "stdout",
     "output_type": "stream",
     "text": [
      "Best alpha value is: 0.001\n",
      "R-squared of the model in the training set is: 0.5831636539976289 \n",
      "\n",
      "-----Test set statistics-----\n",
      "R-squared of the model in the test set is: 0.6335245777494662\n",
      "Mean absolute error of the prediction is: 0.19553501092583175\n",
      "Mean squared error of the prediction is: 0.06710373104308741\n",
      "Root mean squared error of the prediction is: 0.2590438786057053\n",
      "Mean absolute percentage error of the prediction is: 1.6407194813405215\n"
     ]
    }
   ],
   "source": [
    "elanet1_cv = linear_model.ElasticNetCV(alphas=alphas, cv=5)\n",
    "elanet1_cv.fit(X1_train, y1_train)\n",
    "\n",
    "elanet1_y1_train = elanet1_cv.predict(X1_train)\n",
    "elanet1_y1_test = elanet1_cv.predict(X1_test)\n",
    "\n",
    "print(\"Best alpha value is: {}\".format(elanet1_cv.alpha_))\n",
    "print(\"R-squared of the model in the training set is: {}\".format(elanet1_cv.score(X1_train, y1_train)), '\\n')\n",
    "print(\"-----Test set statistics-----\")\n",
    "print(\"R-squared of the model in the test set is: {}\".format(elanet1_cv.score(X1_test, y1_test)))\n",
    "print(\"Mean absolute error of the prediction is: {}\".format(mean_absolute_error(y1_test, elanet1_y1_test)))\n",
    "print(\"Mean squared error of the prediction is: {}\".format(mse(y1_test, elanet1_y1_test)))\n",
    "print(\"Root mean squared error of the prediction is: {}\".format(rmse(y1_test, elanet1_y1_test)))\n",
    "print(\"Mean absolute percentage error of the prediction is: {}\".format(np.mean(np.abs((y1_test - elanet1_y1_test) / y1_test)) * 100))"
   ]
  },
  {
   "cell_type": "code",
   "execution_count": 147,
   "metadata": {},
   "outputs": [
    {
     "data": {
      "text/html": [
       "<div>\n",
       "<style scoped>\n",
       "    .dataframe tbody tr th:only-of-type {\n",
       "        vertical-align: middle;\n",
       "    }\n",
       "\n",
       "    .dataframe tbody tr th {\n",
       "        vertical-align: top;\n",
       "    }\n",
       "\n",
       "    .dataframe thead th {\n",
       "        text-align: right;\n",
       "    }\n",
       "</style>\n",
       "<table border=\"1\" class=\"dataframe\">\n",
       "  <thead>\n",
       "    <tr style=\"text-align: right;\">\n",
       "      <th></th>\n",
       "      <th>Best Alpha</th>\n",
       "      <th>R-square (Training)</th>\n",
       "      <th>R-square (Test)</th>\n",
       "      <th>MAE</th>\n",
       "      <th>MSE</th>\n",
       "      <th>RMSE</th>\n",
       "      <th>MAPE</th>\n",
       "    </tr>\n",
       "  </thead>\n",
       "  <tbody>\n",
       "    <tr>\n",
       "      <th>OLS</th>\n",
       "      <td>0.00000</td>\n",
       "      <td>0.583099</td>\n",
       "      <td>0.633639</td>\n",
       "      <td>0.195711</td>\n",
       "      <td>0.067083</td>\n",
       "      <td>0.259003</td>\n",
       "      <td>1.642307</td>\n",
       "    </tr>\n",
       "    <tr>\n",
       "      <th>Ridge</th>\n",
       "      <td>1.00000</td>\n",
       "      <td>0.583079</td>\n",
       "      <td>0.633175</td>\n",
       "      <td>0.195729</td>\n",
       "      <td>0.067168</td>\n",
       "      <td>0.259167</td>\n",
       "      <td>1.642362</td>\n",
       "    </tr>\n",
       "    <tr>\n",
       "      <th>Lasso</th>\n",
       "      <td>0.00001</td>\n",
       "      <td>0.583099</td>\n",
       "      <td>0.633628</td>\n",
       "      <td>0.195712</td>\n",
       "      <td>0.067085</td>\n",
       "      <td>0.259007</td>\n",
       "      <td>1.642312</td>\n",
       "    </tr>\n",
       "    <tr>\n",
       "      <th>ElasticNet</th>\n",
       "      <td>0.00010</td>\n",
       "      <td>0.583098</td>\n",
       "      <td>0.633554</td>\n",
       "      <td>0.195717</td>\n",
       "      <td>0.067098</td>\n",
       "      <td>0.259033</td>\n",
       "      <td>1.642342</td>\n",
       "    </tr>\n",
       "    <tr>\n",
       "      <th>OLS1</th>\n",
       "      <td>0.00000</td>\n",
       "      <td>0.583215</td>\n",
       "      <td>0.634562</td>\n",
       "      <td>0.195392</td>\n",
       "      <td>0.066914</td>\n",
       "      <td>0.258677</td>\n",
       "      <td>1.639663</td>\n",
       "    </tr>\n",
       "    <tr>\n",
       "      <th>Ridge1</th>\n",
       "      <td>1.00000</td>\n",
       "      <td>0.583195</td>\n",
       "      <td>0.634106</td>\n",
       "      <td>0.195417</td>\n",
       "      <td>0.066997</td>\n",
       "      <td>0.258838</td>\n",
       "      <td>1.639786</td>\n",
       "    </tr>\n",
       "    <tr>\n",
       "      <th>Lasso1</th>\n",
       "      <td>0.00100</td>\n",
       "      <td>0.583119</td>\n",
       "      <td>0.633002</td>\n",
       "      <td>0.195649</td>\n",
       "      <td>0.067199</td>\n",
       "      <td>0.259228</td>\n",
       "      <td>1.641637</td>\n",
       "    </tr>\n",
       "    <tr>\n",
       "      <th>ElasticNet1</th>\n",
       "      <td>0.00100</td>\n",
       "      <td>0.583164</td>\n",
       "      <td>0.633525</td>\n",
       "      <td>0.195535</td>\n",
       "      <td>0.067104</td>\n",
       "      <td>0.259044</td>\n",
       "      <td>1.640719</td>\n",
       "    </tr>\n",
       "  </tbody>\n",
       "</table>\n",
       "</div>"
      ],
      "text/plain": [
       "             Best Alpha  R-square (Training)  R-square (Test)       MAE  \\\n",
       "OLS             0.00000             0.583099         0.633639  0.195711   \n",
       "Ridge           1.00000             0.583079         0.633175  0.195729   \n",
       "Lasso           0.00001             0.583099         0.633628  0.195712   \n",
       "ElasticNet      0.00010             0.583098         0.633554  0.195717   \n",
       "OLS1            0.00000             0.583215         0.634562  0.195392   \n",
       "Ridge1          1.00000             0.583195         0.634106  0.195417   \n",
       "Lasso1          0.00100             0.583119         0.633002  0.195649   \n",
       "ElasticNet1     0.00100             0.583164         0.633525  0.195535   \n",
       "\n",
       "                  MSE      RMSE      MAPE  \n",
       "OLS          0.067083  0.259003  1.642307  \n",
       "Ridge        0.067168  0.259167  1.642362  \n",
       "Lasso        0.067085  0.259007  1.642312  \n",
       "ElasticNet   0.067098  0.259033  1.642342  \n",
       "OLS1         0.066914  0.258677  1.639663  \n",
       "Ridge1       0.066997  0.258838  1.639786  \n",
       "Lasso1       0.067199  0.259228  1.641637  \n",
       "ElasticNet1  0.067104  0.259044  1.640719  "
      ]
     },
     "execution_count": 147,
     "metadata": {},
     "output_type": "execute_result"
    }
   ],
   "source": [
    "# Let's make table to look around at a glance. \n",
    "\n",
    "OLS = [0, 0.5830986251228254, 0.6336389874815189, 0.19571141237787565, 0.06708278197141096, 0.25900344007640314, 1.6423068988146043]\n",
    "Ridge = [1.0, 0.5830787509561941 , 0.6331752844249631, 0.19572859989654126, 0.06716768863445514, 0.2591672985437305, 1.6423620289718905]\n",
    "Lasso = [1e-05, 0.5830986178623121 , 0.6336281381775515, 0.19571225586548768, 0.06708476854058106, 0.25900727507269183, 1.6423122948800752]\n",
    "ElasticNet = [0.0001, 0.5830981507304196, 0.6335540250491034, 0.1957172179351988, 0.0670983390752914, 0.25903347095557244, 1.642341766621318]\n",
    "\n",
    "OLS1 = [0, 0.5832146675886636, 0.634562074628402, 0.19539245600399038, 0.0669137594725668, 0.2586769403572085, 1.6396633142001356]\n",
    "Ridge1 = [1.0, 0.5831948002991127, 0.6341056990663082, 0.1954173731834066, 0.06699732442976175, 0.2588384137444861, 1.6397860097906276]\n",
    "Lasso1 = [0.001, 0.5831190394832557, 0.6330020505341318, 0.19564904160027383, 0.0671994087436687, 0.25922848752339833, 1.641637047311248]\n",
    "ElasticNet1 = [0.001, 0.5831636539976289, 0.6335245777494662, 0.19553501092583175, 0.06710373104308741, 0.2590438786057053, 1.6407194813405215]\n",
    "\n",
    "data1 = [OLS, Ridge, Lasso, ElasticNet, OLS1, Ridge1, Lasso1, ElasticNet1]      \n",
    "index_name1 = ['OLS', 'Ridge', 'Lasso', 'ElasticNet', 'OLS1', 'Ridge1', 'Lasso1', 'ElasticNet1']\n",
    "col_name1 = ['Best Alpha', 'R-square (Training)', 'R-square (Test)', 'MAE', 'MSE', 'RMSE', 'MAPE']\n",
    "\n",
    "table1 = pd.DataFrame(data1, index=index_name1, columns=col_name1)\n",
    "table1"
   ]
  },
  {
   "cell_type": "code",
   "execution_count": 148,
   "metadata": {},
   "outputs": [
    {
     "data": {
      "text/html": [
       "<div>\n",
       "<style scoped>\n",
       "    .dataframe tbody tr th:only-of-type {\n",
       "        vertical-align: middle;\n",
       "    }\n",
       "\n",
       "    .dataframe tbody tr th {\n",
       "        vertical-align: top;\n",
       "    }\n",
       "\n",
       "    .dataframe thead th {\n",
       "        text-align: right;\n",
       "    }\n",
       "</style>\n",
       "<table border=\"1\" class=\"dataframe\">\n",
       "  <thead>\n",
       "    <tr style=\"text-align: right;\">\n",
       "      <th></th>\n",
       "      <th>Best Alpha</th>\n",
       "      <th>R-square (Training)</th>\n",
       "      <th>R-square (Test)</th>\n",
       "      <th>MAE</th>\n",
       "      <th>MSE</th>\n",
       "      <th>RMSE</th>\n",
       "      <th>MAPE</th>\n",
       "    </tr>\n",
       "  </thead>\n",
       "  <tbody>\n",
       "    <tr>\n",
       "      <th>count</th>\n",
       "      <td>8.000000</td>\n",
       "      <td>8.000000</td>\n",
       "      <td>8.000000</td>\n",
       "      <td>8.000000</td>\n",
       "      <td>8.000000</td>\n",
       "      <td>8.000000</td>\n",
       "      <td>8.000000</td>\n",
       "    </tr>\n",
       "    <tr>\n",
       "      <th>mean</th>\n",
       "      <td>0.250264</td>\n",
       "      <td>0.583133</td>\n",
       "      <td>0.633649</td>\n",
       "      <td>0.195608</td>\n",
       "      <td>0.067081</td>\n",
       "      <td>0.259000</td>\n",
       "      <td>1.641391</td>\n",
       "    </tr>\n",
       "    <tr>\n",
       "      <th>std</th>\n",
       "      <td>0.462747</td>\n",
       "      <td>0.000051</td>\n",
       "      <td>0.000494</td>\n",
       "      <td>0.000140</td>\n",
       "      <td>0.000091</td>\n",
       "      <td>0.000175</td>\n",
       "      <td>0.001171</td>\n",
       "    </tr>\n",
       "    <tr>\n",
       "      <th>min</th>\n",
       "      <td>0.000000</td>\n",
       "      <td>0.583079</td>\n",
       "      <td>0.633002</td>\n",
       "      <td>0.195392</td>\n",
       "      <td>0.066914</td>\n",
       "      <td>0.258677</td>\n",
       "      <td>1.639663</td>\n",
       "    </tr>\n",
       "    <tr>\n",
       "      <th>25%</th>\n",
       "      <td>0.000008</td>\n",
       "      <td>0.583099</td>\n",
       "      <td>0.633437</td>\n",
       "      <td>0.195506</td>\n",
       "      <td>0.067061</td>\n",
       "      <td>0.258962</td>\n",
       "      <td>1.640486</td>\n",
       "    </tr>\n",
       "    <tr>\n",
       "      <th>50%</th>\n",
       "      <td>0.000550</td>\n",
       "      <td>0.583109</td>\n",
       "      <td>0.633591</td>\n",
       "      <td>0.195680</td>\n",
       "      <td>0.067092</td>\n",
       "      <td>0.259020</td>\n",
       "      <td>1.641972</td>\n",
       "    </tr>\n",
       "    <tr>\n",
       "      <th>75%</th>\n",
       "      <td>0.250750</td>\n",
       "      <td>0.583171</td>\n",
       "      <td>0.633756</td>\n",
       "      <td>0.195713</td>\n",
       "      <td>0.067120</td>\n",
       "      <td>0.259075</td>\n",
       "      <td>1.642320</td>\n",
       "    </tr>\n",
       "    <tr>\n",
       "      <th>max</th>\n",
       "      <td>1.000000</td>\n",
       "      <td>0.583215</td>\n",
       "      <td>0.634562</td>\n",
       "      <td>0.195729</td>\n",
       "      <td>0.067199</td>\n",
       "      <td>0.259228</td>\n",
       "      <td>1.642362</td>\n",
       "    </tr>\n",
       "  </tbody>\n",
       "</table>\n",
       "</div>"
      ],
      "text/plain": [
       "       Best Alpha  R-square (Training)  R-square (Test)       MAE       MSE  \\\n",
       "count    8.000000             8.000000         8.000000  8.000000  8.000000   \n",
       "mean     0.250264             0.583133         0.633649  0.195608  0.067081   \n",
       "std      0.462747             0.000051         0.000494  0.000140  0.000091   \n",
       "min      0.000000             0.583079         0.633002  0.195392  0.066914   \n",
       "25%      0.000008             0.583099         0.633437  0.195506  0.067061   \n",
       "50%      0.000550             0.583109         0.633591  0.195680  0.067092   \n",
       "75%      0.250750             0.583171         0.633756  0.195713  0.067120   \n",
       "max      1.000000             0.583215         0.634562  0.195729  0.067199   \n",
       "\n",
       "           RMSE      MAPE  \n",
       "count  8.000000  8.000000  \n",
       "mean   0.259000  1.641391  \n",
       "std    0.000175  0.001171  \n",
       "min    0.258677  1.639663  \n",
       "25%    0.258962  1.640486  \n",
       "50%    0.259020  1.641972  \n",
       "75%    0.259075  1.642320  \n",
       "max    0.259228  1.642362  "
      ]
     },
     "execution_count": 148,
     "metadata": {},
     "output_type": "execute_result"
    }
   ],
   "source": [
    "table1.describe()"
   ]
  },
  {
   "cell_type": "markdown",
   "metadata": {},
   "source": [
    "Hum.. quite strange result. The new OLS1 model which has the new variable, Interest_rate, shows that the most goodness among the models.  \n",
    "I need to dig into why this model shows better performance than former one.  \n",
    "With my short point of view, I think prior to make the linear regression model, we assume that all the variables or features are totally independent each other.  \n",
    "In this manner, the newly added value is almost uncorrelated to any features and even the target variable. In this reason, I think this very big independecy makes the model performance better than former one."
   ]
  }
 ],
 "metadata": {
  "kernelspec": {
   "display_name": "Python 3",
   "language": "python",
   "name": "python3"
  },
  "language_info": {
   "codemirror_mode": {
    "name": "ipython",
    "version": 3
   },
   "file_extension": ".py",
   "mimetype": "text/x-python",
   "name": "python",
   "nbconvert_exporter": "python",
   "pygments_lexer": "ipython3",
   "version": "3.7.3"
  }
 },
 "nbformat": 4,
 "nbformat_minor": 2
}
