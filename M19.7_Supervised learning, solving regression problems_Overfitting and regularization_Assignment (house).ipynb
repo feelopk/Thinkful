{
 "cells": [
  {
   "cell_type": "markdown",
   "metadata": {},
   "source": [
    "### House prices model\n",
    "\n",
    "In this assignment, you'll continue working with the house prices data. To complete this assignment, submit a link to a Jupyter notebook containing your solutions to the following tasks:\n",
    "\n",
    "- Load the houseprices data from Thinkful's database.\n",
    "- Reimplement your model from the previous checkpoint.\n",
    "- Try OLS, Lasso, Ridge, and ElasticNet regression using the same model specification. This time, you need to do k-fold cross-validation to choose the best hyperparameter values for your models. Scikit-learn has RidgeCV, LassoCV, and ElasticNetCV that you can utilize to do this. Which model is the best? Why?"
   ]
  },
  {
   "cell_type": "code",
   "execution_count": 1,
   "metadata": {
    "scrolled": true
   },
   "outputs": [
    {
     "data": {
      "text/html": [
       "<div>\n",
       "<style scoped>\n",
       "    .dataframe tbody tr th:only-of-type {\n",
       "        vertical-align: middle;\n",
       "    }\n",
       "\n",
       "    .dataframe tbody tr th {\n",
       "        vertical-align: top;\n",
       "    }\n",
       "\n",
       "    .dataframe thead th {\n",
       "        text-align: right;\n",
       "    }\n",
       "</style>\n",
       "<table border=\"1\" class=\"dataframe\">\n",
       "  <thead>\n",
       "    <tr style=\"text-align: right;\">\n",
       "      <th></th>\n",
       "      <th>id</th>\n",
       "      <th>mssubclass</th>\n",
       "      <th>mszoning</th>\n",
       "      <th>lotfrontage</th>\n",
       "      <th>lotarea</th>\n",
       "      <th>street</th>\n",
       "      <th>alley</th>\n",
       "      <th>lotshape</th>\n",
       "      <th>landcontour</th>\n",
       "      <th>utilities</th>\n",
       "      <th>...</th>\n",
       "      <th>poolarea</th>\n",
       "      <th>poolqc</th>\n",
       "      <th>fence</th>\n",
       "      <th>miscfeature</th>\n",
       "      <th>miscval</th>\n",
       "      <th>mosold</th>\n",
       "      <th>yrsold</th>\n",
       "      <th>saletype</th>\n",
       "      <th>salecondition</th>\n",
       "      <th>saleprice</th>\n",
       "    </tr>\n",
       "  </thead>\n",
       "  <tbody>\n",
       "    <tr>\n",
       "      <th>0</th>\n",
       "      <td>1</td>\n",
       "      <td>60</td>\n",
       "      <td>RL</td>\n",
       "      <td>65.0</td>\n",
       "      <td>8450</td>\n",
       "      <td>Pave</td>\n",
       "      <td>None</td>\n",
       "      <td>Reg</td>\n",
       "      <td>Lvl</td>\n",
       "      <td>AllPub</td>\n",
       "      <td>...</td>\n",
       "      <td>0</td>\n",
       "      <td>None</td>\n",
       "      <td>None</td>\n",
       "      <td>None</td>\n",
       "      <td>0</td>\n",
       "      <td>2</td>\n",
       "      <td>2008</td>\n",
       "      <td>WD</td>\n",
       "      <td>Normal</td>\n",
       "      <td>208500</td>\n",
       "    </tr>\n",
       "    <tr>\n",
       "      <th>1</th>\n",
       "      <td>2</td>\n",
       "      <td>20</td>\n",
       "      <td>RL</td>\n",
       "      <td>80.0</td>\n",
       "      <td>9600</td>\n",
       "      <td>Pave</td>\n",
       "      <td>None</td>\n",
       "      <td>Reg</td>\n",
       "      <td>Lvl</td>\n",
       "      <td>AllPub</td>\n",
       "      <td>...</td>\n",
       "      <td>0</td>\n",
       "      <td>None</td>\n",
       "      <td>None</td>\n",
       "      <td>None</td>\n",
       "      <td>0</td>\n",
       "      <td>5</td>\n",
       "      <td>2007</td>\n",
       "      <td>WD</td>\n",
       "      <td>Normal</td>\n",
       "      <td>181500</td>\n",
       "    </tr>\n",
       "    <tr>\n",
       "      <th>2</th>\n",
       "      <td>3</td>\n",
       "      <td>60</td>\n",
       "      <td>RL</td>\n",
       "      <td>68.0</td>\n",
       "      <td>11250</td>\n",
       "      <td>Pave</td>\n",
       "      <td>None</td>\n",
       "      <td>IR1</td>\n",
       "      <td>Lvl</td>\n",
       "      <td>AllPub</td>\n",
       "      <td>...</td>\n",
       "      <td>0</td>\n",
       "      <td>None</td>\n",
       "      <td>None</td>\n",
       "      <td>None</td>\n",
       "      <td>0</td>\n",
       "      <td>9</td>\n",
       "      <td>2008</td>\n",
       "      <td>WD</td>\n",
       "      <td>Normal</td>\n",
       "      <td>223500</td>\n",
       "    </tr>\n",
       "    <tr>\n",
       "      <th>3</th>\n",
       "      <td>4</td>\n",
       "      <td>70</td>\n",
       "      <td>RL</td>\n",
       "      <td>60.0</td>\n",
       "      <td>9550</td>\n",
       "      <td>Pave</td>\n",
       "      <td>None</td>\n",
       "      <td>IR1</td>\n",
       "      <td>Lvl</td>\n",
       "      <td>AllPub</td>\n",
       "      <td>...</td>\n",
       "      <td>0</td>\n",
       "      <td>None</td>\n",
       "      <td>None</td>\n",
       "      <td>None</td>\n",
       "      <td>0</td>\n",
       "      <td>2</td>\n",
       "      <td>2006</td>\n",
       "      <td>WD</td>\n",
       "      <td>Abnorml</td>\n",
       "      <td>140000</td>\n",
       "    </tr>\n",
       "    <tr>\n",
       "      <th>4</th>\n",
       "      <td>5</td>\n",
       "      <td>60</td>\n",
       "      <td>RL</td>\n",
       "      <td>84.0</td>\n",
       "      <td>14260</td>\n",
       "      <td>Pave</td>\n",
       "      <td>None</td>\n",
       "      <td>IR1</td>\n",
       "      <td>Lvl</td>\n",
       "      <td>AllPub</td>\n",
       "      <td>...</td>\n",
       "      <td>0</td>\n",
       "      <td>None</td>\n",
       "      <td>None</td>\n",
       "      <td>None</td>\n",
       "      <td>0</td>\n",
       "      <td>12</td>\n",
       "      <td>2008</td>\n",
       "      <td>WD</td>\n",
       "      <td>Normal</td>\n",
       "      <td>250000</td>\n",
       "    </tr>\n",
       "  </tbody>\n",
       "</table>\n",
       "<p>5 rows × 81 columns</p>\n",
       "</div>"
      ],
      "text/plain": [
       "   id  mssubclass mszoning  lotfrontage  lotarea street alley lotshape  \\\n",
       "0   1          60       RL         65.0     8450   Pave  None      Reg   \n",
       "1   2          20       RL         80.0     9600   Pave  None      Reg   \n",
       "2   3          60       RL         68.0    11250   Pave  None      IR1   \n",
       "3   4          70       RL         60.0     9550   Pave  None      IR1   \n",
       "4   5          60       RL         84.0    14260   Pave  None      IR1   \n",
       "\n",
       "  landcontour utilities  ... poolarea poolqc fence miscfeature miscval mosold  \\\n",
       "0         Lvl    AllPub  ...        0   None  None        None       0      2   \n",
       "1         Lvl    AllPub  ...        0   None  None        None       0      5   \n",
       "2         Lvl    AllPub  ...        0   None  None        None       0      9   \n",
       "3         Lvl    AllPub  ...        0   None  None        None       0      2   \n",
       "4         Lvl    AllPub  ...        0   None  None        None       0     12   \n",
       "\n",
       "  yrsold  saletype  salecondition  saleprice  \n",
       "0   2008        WD         Normal     208500  \n",
       "1   2007        WD         Normal     181500  \n",
       "2   2008        WD         Normal     223500  \n",
       "3   2006        WD        Abnorml     140000  \n",
       "4   2008        WD         Normal     250000  \n",
       "\n",
       "[5 rows x 81 columns]"
      ]
     },
     "execution_count": 1,
     "metadata": {},
     "output_type": "execute_result"
    }
   ],
   "source": [
    "# Load the houseprices data from Thinkful's database.\n",
    "import numpy as np\n",
    "import pandas as pd\n",
    "import matplotlib.pyplot as plt\n",
    "import statsmodels.api as sm\n",
    "from sklearn import linear_model\n",
    "from sklearn.model_selection import train_test_split\n",
    "from sklearn.metrics import mean_absolute_error\n",
    "from statsmodels.tools.eval_measures import mse, rmse\n",
    "from sqlalchemy import create_engine\n",
    "\n",
    "import warnings\n",
    "warnings.filterwarnings('ignore')\n",
    "\n",
    "postgres_user = 'dsbc_student'  \n",
    "postgres_pw = '7*.8G9QH21'  \n",
    "postgres_host = '142.93.121.174'  \n",
    "postgres_port = '5432'  \n",
    "postgres_db = 'houseprices'\n",
    "\n",
    "engine = create_engine('postgresql://{}:{}@{}:{}/{}'.format(\n",
    "    postgres_user, postgres_pw, postgres_host, postgres_port, postgres_db))\n",
    "\n",
    "hp_df = pd.read_sql_query('select * from houseprices', con=engine)\n",
    "engine.dispose()\n",
    "\n",
    "hp_df.head()"
   ]
  },
  {
   "cell_type": "code",
   "execution_count": 2,
   "metadata": {
    "scrolled": true
   },
   "outputs": [
    {
     "name": "stdout",
     "output_type": "stream",
     "text": [
      "   saleprice  firstflrsf  grlivarea\n",
      "0  12.247694    6.752270   7.444249\n",
      "1  12.109011    7.140453   7.140453\n",
      "2  12.317167    6.824374   7.487734\n",
      "3  11.849398    6.867974   7.448334\n",
      "4  12.429216    7.043160   7.695303\n"
     ]
    }
   ],
   "source": [
    "# Run your house prices model again and interpret the results. Which features are statistically significant, and which are not?\n",
    "\n",
    "hp_sel = hp_df[['saleprice', 'lotfrontage', 'lotarea', 'masvnrarea', 'bsmtfinsf1', \n",
    "                'totalbsmtsf', 'firstflrsf', 'secondflrsf', 'grlivarea', 'garagearea']]\n",
    "hp_sel.replace(0, 1, inplace=True)\n",
    "hp_sel.fillna(1, inplace=True)\n",
    "hp_sellog = np.log(hp_sel)\n",
    "hp_sellog_picked = hp_sellog[['saleprice', 'firstflrsf', 'grlivarea']]\n",
    "print(hp_sellog_picked.head())"
   ]
  },
  {
   "cell_type": "code",
   "execution_count": 3,
   "metadata": {
    "scrolled": true
   },
   "outputs": [
    {
     "name": "stdout",
     "output_type": "stream",
     "text": [
      "The number of observations in the training set is 438\n",
      "The number of observations in the test set is 1022\n"
     ]
    }
   ],
   "source": [
    "# Let's bring the model with the best performance, 'My model' for this test.\n",
    "\n",
    "X = hp_sellog_picked[['firstflrsf', 'grlivarea']]\n",
    "Y = hp_sellog_picked['saleprice']\n",
    "\n",
    "X_train, X_test, y_train, y_test = train_test_split(X, Y, test_size=0.7, random_state=42)\n",
    "\n",
    "print(\"The number of observations in the training set is {}\".format(X_train.shape[0]))\n",
    "print(\"The number of observations in the test set is {}\".format(X_test.shape[0]))"
   ]
  },
  {
   "cell_type": "markdown",
   "metadata": {},
   "source": [
    "**Let's start with OLS regression.**"
   ]
  },
  {
   "cell_type": "code",
   "execution_count": 5,
   "metadata": {
    "scrolled": true
   },
   "outputs": [
    {
     "name": "stdout",
     "output_type": "stream",
     "text": [
      "R-squared of the model in the training set is: 0.5866184638252316\n",
      "-----Test set statistics-----\n",
      "R-squared of the model in the test set is: 0.5978770864509493\n",
      "Mean absolute error of the prediction is: 0.1937960585344992\n",
      "Mean squared error of the prediction is: 0.06518233114128323\n",
      "Root mean squared error of the prediction is: 0.25530830605619403\n",
      "Mean absolute percentage error of the prediction is: 1.6164132369121786\n"
     ]
    }
   ],
   "source": [
    "from sklearn.linear_model import LinearRegression\n",
    "lrm = LinearRegression()\n",
    "lrm.fit(X_train, y_train)\n",
    "\n",
    "lrm_y_train = lrm.predict(X_train)\n",
    "lrm_y_test = lrm.predict(X_test)\n",
    "\n",
    "print(\"R-squared of the model in the training set is: {}\".format(lrm.score(X_train, y_train)))\n",
    "print(\"-----Test set statistics-----\")\n",
    "print(\"R-squared of the model in the test set is: {}\".format(lrm.score(X_test, y_test)))\n",
    "print(\"Mean absolute error of the prediction is: {}\".format(mean_absolute_error(y_test, lrm_y_test)))\n",
    "print(\"Mean squared error of the prediction is: {}\".format(mse(y_test, lrm_y_test)))\n",
    "print(\"Root mean squared error of the prediction is: {}\".format(rmse(y_test, lrm_y_test)))\n",
    "print(\"Mean absolute percentage error of the prediction is: {}\".format(np.mean(np.abs((y_test - lrm_y_test) / y_test)) * 100))"
   ]
  },
  {
   "cell_type": "markdown",
   "metadata": {},
   "source": [
    "**This time, I will do Ridge Regression with built in cross-validation method.**"
   ]
  },
  {
   "cell_type": "code",
   "execution_count": 17,
   "metadata": {
    "scrolled": true
   },
   "outputs": [
    {
     "name": "stdout",
     "output_type": "stream",
     "text": [
      "Best alpha value is: 1.0\n",
      "R-squared of the model in the training set is: 0.5763096807285116\n",
      "-----Test set statistics-----\n",
      "R-squared of the model in the test set is: 0.5884139603832022\n",
      "Mean absolute error of the prediction is: 0.19378536745237496\n",
      "Mean squared error of the prediction is: 0.06518983108133193\n",
      "Root mean squared error of the prediction is: 0.2553229936400792\n",
      "Mean absolute percentage error of the prediction is: 1.6160419382405196\n"
     ]
    }
   ],
   "source": [
    "from sklearn import linear_model\n",
    "\n",
    "alphas = [np.power(10.0,p) for p in np.arange(-10,40,1)]\n",
    "\n",
    "rgm_cv = linear_model.RidgeCV(alphas=alphas, cv=5)\n",
    "rgm_cv.fit(X_train, y_train)\n",
    "\n",
    "rgm_y_train = rgm_cv.predict(X_train)\n",
    "rgm_y_test = rgm_cv.predict(X_test)\n",
    "\n",
    "print(\"Best alpha value is: {}\".format(rgm_cv.alpha_))\n",
    "print(\"R-squared of the model in the training set is: {}\".format(rgm.score(X_train, y_train)))\n",
    "print(\"-----Test set statistics-----\")\n",
    "print(\"R-squared of the model in the test set is: {}\".format(rgm.score(X_test, y_test)))\n",
    "print(\"Mean absolute error of the prediction is: {}\".format(mean_absolute_error(y_test, rgm_y_test)))\n",
    "print(\"Mean squared error of the prediction is: {}\".format(mse(y_test, rgm_y_test)))\n",
    "print(\"Root mean squared error of the prediction is: {}\".format(rmse(y_test, rgm_y_test)))\n",
    "print(\"Mean absolute percentage error of the prediction is: {}\".format(np.mean(np.abs((y_test - rgm_y_test) / y_test)) * 100))"
   ]
  },
  {
   "cell_type": "markdown",
   "metadata": {},
   "source": [
    "**This time, I will do Lasso Regression with built in cross-validation method.**"
   ]
  },
  {
   "cell_type": "code",
   "execution_count": 19,
   "metadata": {},
   "outputs": [
    {
     "name": "stdout",
     "output_type": "stream",
     "text": [
      "Best alpha value is: 1e-10\n",
      "R-squared of the model in the training set is: 0.5866184638252318\n",
      "-----Test set statistics-----\n",
      "R-squared of the model in the test set is: 0.597877086431229\n",
      "Mean absolute error of the prediction is: 0.19379605854041032\n",
      "Mean squared error of the prediction is: 0.06518233114447981\n",
      "Root mean squared error of the prediction is: 0.25530830606245425\n",
      "Mean absolute percentage error of the prediction is: 1.6164132369400568\n"
     ]
    }
   ],
   "source": [
    "lass_cv = linear_model.LassoCV(alphas=alphas, cv=5)\n",
    "lass_cv.fit(X_train, y_train)\n",
    "\n",
    "lass_y_train = lass_cv.predict(X_train)\n",
    "lass_y_test = lass_cv.predict(X_test)\n",
    "\n",
    "print(\"Best alpha value is: {}\".format(lass_cv.alpha_))\n",
    "print(\"R-squared of the model in the training set is: {}\".format(lass_cv.score(X_train, y_train)))\n",
    "print(\"-----Test set statistics-----\")\n",
    "print(\"R-squared of the model in the test set is: {}\".format(lass_cv.score(X_test, y_test)))\n",
    "print(\"Mean absolute error of the prediction is: {}\".format(mean_absolute_error(y_test, lass_y_test)))\n",
    "print(\"Mean squared error of the prediction is: {}\".format(mse(y_test, lass_y_test)))\n",
    "print(\"Root mean squared error of the prediction is: {}\".format(rmse(y_test, lass_y_test)))\n",
    "print(\"Mean absolute percentage error of the prediction is: {}\".format(np.mean(np.abs((y_test - lass_y_test) / y_test)) * 100))"
   ]
  },
  {
   "cell_type": "markdown",
   "metadata": {},
   "source": [
    "**This time, I will do ElasticNet Regression with built in cross-validation method.**"
   ]
  },
  {
   "cell_type": "code",
   "execution_count": 20,
   "metadata": {},
   "outputs": [
    {
     "name": "stdout",
     "output_type": "stream",
     "text": [
      "Best alpha value is: 0.0001\n",
      "R-squared of the model in the training set is: 0.5866179570465635\n",
      "-----Test set statistics-----\n",
      "R-squared of the model in the test set is: 0.5978976999993088\n",
      "Mean absolute error of the prediction is: 0.1937876078437501\n",
      "Mean squared error of the prediction is: 0.06517898977701404\n",
      "Root mean squared error of the prediction is: 0.25530176218940215\n",
      "Mean absolute percentage error of the prediction is: 1.6163245391166192\n"
     ]
    }
   ],
   "source": [
    "elanet_cv = linear_model.ElasticNetCV(alphas=alphas, cv=5)\n",
    "elanet_cv.fit(X_train, y_train)\n",
    "\n",
    "elanet_y_train = elanet_cv.predict(X_train)\n",
    "elanet_y_test = elanet_cv.predict(X_test)\n",
    "\n",
    "print(\"Best alpha value is: {}\".format(elanet_cv.alpha_))\n",
    "print(\"R-squared of the model in the training set is: {}\".format(elanet_cv.score(X_train, y_train)))\n",
    "print(\"-----Test set statistics-----\")\n",
    "print(\"R-squared of the model in the test set is: {}\".format(elanet_cv.score(X_test, y_test)))\n",
    "print(\"Mean absolute error of the prediction is: {}\".format(mean_absolute_error(y_test, elanet_y_test)))\n",
    "print(\"Mean squared error of the prediction is: {}\".format(mse(y_test, elanet_y_test)))\n",
    "print(\"Root mean squared error of the prediction is: {}\".format(rmse(y_test, elanet_y_test)))\n",
    "print(\"Mean absolute percentage error of the prediction is: {}\".format(np.mean(np.abs((y_test - elanet_y_test) / y_test)) * 100))"
   ]
  },
  {
   "cell_type": "markdown",
   "metadata": {},
   "source": [
    "Thress models are showing very similar model performance.  \n",
    "I think this means that the data is quite neat and nice."
   ]
  }
 ],
 "metadata": {
  "kernelspec": {
   "display_name": "Python 3",
   "language": "python",
   "name": "python3"
  },
  "language_info": {
   "codemirror_mode": {
    "name": "ipython",
    "version": 3
   },
   "file_extension": ".py",
   "mimetype": "text/x-python",
   "name": "python",
   "nbconvert_exporter": "python",
   "pygments_lexer": "ipython3",
   "version": "3.7.3"
  }
 },
 "nbformat": 4,
 "nbformat_minor": 2
}
