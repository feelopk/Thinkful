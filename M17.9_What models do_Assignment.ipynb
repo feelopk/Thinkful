{
 "cells": [
  {
   "cell_type": "markdown",
   "metadata": {},
   "source": [
    "### 1. Try to model the result of a coin toss. In your model, include any features that you think important in explaining the result. Discuss with your mentor about the pros and cons of adding too many features into your model."
   ]
  },
  {
   "cell_type": "markdown",
   "metadata": {},
   "source": [
    "What else variables could I add on the coin toss model?"
   ]
  },
  {
   "cell_type": "markdown",
   "metadata": {},
   "source": [
    "### 2. If you ever used Netflix, you should already have realized that it provides some recommendations for you to watch. In data science, this is an example of the so-called recommendations systems. Read this nontechnical blog post of Netflix about how they model their recommendations systems. Then, derive the features they use in their recommendations engines and discuss what else can be incorporated into this model.\n"
   ]
  },
  {
   "cell_type": "markdown",
   "metadata": {},
   "source": [
    "First of all, let's organize what kinds of information the Netflix is using for search result optimization.\n",
    "\n",
    "1. Viewing and Rating histories.\n",
    "2. The information of others who saw the same contents as you which are their preferences.\n",
    "3. The title information what I saw that genre, category, actors, release year\n",
    "4. The date and time when I saw those.\n",
    "5. The devices what I used for\n",
    "6. How long I watched some contents."
   ]
  },
  {
   "cell_type": "markdown",
   "metadata": {},
   "source": [
    "To optimize the search results, I think the Netflix should consider the devices. Netflix only allows you to have Netflix open on 3–5 devices. That means that there are 3-5 difference users who use it and It also means that there are 3-5 difference favors. The Netflix should consider this one as bringing the device information.  \n",
    "Moreover, the Netflix could make people to set an alert for their preferences."
   ]
  },
  {
   "cell_type": "code",
   "execution_count": null,
   "metadata": {},
   "outputs": [],
   "source": []
  }
 ],
 "metadata": {
  "kernelspec": {
   "display_name": "Python 3",
   "language": "python",
   "name": "python3"
  },
  "language_info": {
   "codemirror_mode": {
    "name": "ipython",
    "version": 3
   },
   "file_extension": ".py",
   "mimetype": "text/x-python",
   "name": "python",
   "nbconvert_exporter": "python",
   "pygments_lexer": "ipython3",
   "version": "3.7.3"
  }
 },
 "nbformat": 4,
 "nbformat_minor": 2
}
