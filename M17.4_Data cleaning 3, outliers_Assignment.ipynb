{
 "cells": [
  {
   "cell_type": "code",
   "execution_count": 1,
   "metadata": {},
   "outputs": [],
   "source": [
    "import numpy as np\n",
    "import pandas as pd\n",
    "import matplotlib.pyplot as plt\n",
    "from sqlalchemy import create_engine\n",
    "import warnings\n",
    "\n",
    "warnings.filterwarnings('ignore')"
   ]
  },
  {
   "cell_type": "code",
   "execution_count": 2,
   "metadata": {},
   "outputs": [],
   "source": [
    "postgres_user = 'dsbc_student'\n",
    "postgres_pw = '7*.8G9QH21'\n",
    "postgres_host = '142.93.121.174'\n",
    "postgres_port = '5432'\n",
    "postgres_db = 'useducation'\n",
    "\n",
    "engine = create_engine('postgresql://{}:{}@{}:{}/{}'.format(postgres_user, postgres_pw, postgres_host, postgres_port\n",
    "                                                             ,postgres_db))\n",
    "\n",
    "usedu_df = pd.read_sql('select * from useducation', con=engine)\n",
    "engine.dispose()"
   ]
  },
  {
   "cell_type": "code",
   "execution_count": 3,
   "metadata": {},
   "outputs": [
    {
     "data": {
      "text/html": [
       "<div>\n",
       "<style scoped>\n",
       "    .dataframe tbody tr th:only-of-type {\n",
       "        vertical-align: middle;\n",
       "    }\n",
       "\n",
       "    .dataframe tbody tr th {\n",
       "        vertical-align: top;\n",
       "    }\n",
       "\n",
       "    .dataframe thead th {\n",
       "        text-align: right;\n",
       "    }\n",
       "</style>\n",
       "<table border=\"1\" class=\"dataframe\">\n",
       "  <thead>\n",
       "    <tr style=\"text-align: right;\">\n",
       "      <th></th>\n",
       "      <th>PRIMARY_KEY</th>\n",
       "      <th>STATE</th>\n",
       "      <th>YEAR</th>\n",
       "      <th>ENROLL</th>\n",
       "      <th>TOTAL_REVENUE</th>\n",
       "      <th>FEDERAL_REVENUE</th>\n",
       "      <th>STATE_REVENUE</th>\n",
       "      <th>LOCAL_REVENUE</th>\n",
       "      <th>TOTAL_EXPENDITURE</th>\n",
       "      <th>INSTRUCTION_EXPENDITURE</th>\n",
       "      <th>...</th>\n",
       "      <th>GRADES_4_G</th>\n",
       "      <th>GRADES_8_G</th>\n",
       "      <th>GRADES_12_G</th>\n",
       "      <th>GRADES_1_8_G</th>\n",
       "      <th>GRADES_9_12_G</th>\n",
       "      <th>GRADES_ALL_G</th>\n",
       "      <th>AVG_MATH_4_SCORE</th>\n",
       "      <th>AVG_MATH_8_SCORE</th>\n",
       "      <th>AVG_READING_4_SCORE</th>\n",
       "      <th>AVG_READING_8_SCORE</th>\n",
       "    </tr>\n",
       "  </thead>\n",
       "  <tbody>\n",
       "    <tr>\n",
       "      <th>0</th>\n",
       "      <td>1992_ALABAMA</td>\n",
       "      <td>ALABAMA</td>\n",
       "      <td>1992</td>\n",
       "      <td>NaN</td>\n",
       "      <td>2678885.0</td>\n",
       "      <td>304177.0</td>\n",
       "      <td>1659028.0</td>\n",
       "      <td>715680.0</td>\n",
       "      <td>2653798.0</td>\n",
       "      <td>1481703.0</td>\n",
       "      <td>...</td>\n",
       "      <td>57948.0</td>\n",
       "      <td>58025.0</td>\n",
       "      <td>41167.0</td>\n",
       "      <td>471564.0</td>\n",
       "      <td>196386.0</td>\n",
       "      <td>676174.0</td>\n",
       "      <td>208.327876</td>\n",
       "      <td>252.187522</td>\n",
       "      <td>207.963517</td>\n",
       "      <td>NaN</td>\n",
       "    </tr>\n",
       "    <tr>\n",
       "      <th>1</th>\n",
       "      <td>1992_ALASKA</td>\n",
       "      <td>ALASKA</td>\n",
       "      <td>1992</td>\n",
       "      <td>NaN</td>\n",
       "      <td>1049591.0</td>\n",
       "      <td>106780.0</td>\n",
       "      <td>720711.0</td>\n",
       "      <td>222100.0</td>\n",
       "      <td>972488.0</td>\n",
       "      <td>498362.0</td>\n",
       "      <td>...</td>\n",
       "      <td>9748.0</td>\n",
       "      <td>8789.0</td>\n",
       "      <td>6714.0</td>\n",
       "      <td>79117.0</td>\n",
       "      <td>30847.0</td>\n",
       "      <td>112335.0</td>\n",
       "      <td>NaN</td>\n",
       "      <td>NaN</td>\n",
       "      <td>NaN</td>\n",
       "      <td>258.859712</td>\n",
       "    </tr>\n",
       "    <tr>\n",
       "      <th>2</th>\n",
       "      <td>1992_ARIZONA</td>\n",
       "      <td>ARIZONA</td>\n",
       "      <td>1992</td>\n",
       "      <td>NaN</td>\n",
       "      <td>3258079.0</td>\n",
       "      <td>297888.0</td>\n",
       "      <td>1369815.0</td>\n",
       "      <td>1590376.0</td>\n",
       "      <td>3401580.0</td>\n",
       "      <td>1435908.0</td>\n",
       "      <td>...</td>\n",
       "      <td>55433.0</td>\n",
       "      <td>49081.0</td>\n",
       "      <td>37410.0</td>\n",
       "      <td>437127.0</td>\n",
       "      <td>175210.0</td>\n",
       "      <td>614881.0</td>\n",
       "      <td>215.253932</td>\n",
       "      <td>265.366278</td>\n",
       "      <td>206.212716</td>\n",
       "      <td>262.169895</td>\n",
       "    </tr>\n",
       "    <tr>\n",
       "      <th>3</th>\n",
       "      <td>1992_ARKANSAS</td>\n",
       "      <td>ARKANSAS</td>\n",
       "      <td>1992</td>\n",
       "      <td>NaN</td>\n",
       "      <td>1711959.0</td>\n",
       "      <td>178571.0</td>\n",
       "      <td>958785.0</td>\n",
       "      <td>574603.0</td>\n",
       "      <td>1743022.0</td>\n",
       "      <td>964323.0</td>\n",
       "      <td>...</td>\n",
       "      <td>34632.0</td>\n",
       "      <td>36011.0</td>\n",
       "      <td>27651.0</td>\n",
       "      <td>281338.0</td>\n",
       "      <td>123113.0</td>\n",
       "      <td>405259.0</td>\n",
       "      <td>210.206028</td>\n",
       "      <td>256.312090</td>\n",
       "      <td>208.634458</td>\n",
       "      <td>264.619665</td>\n",
       "    </tr>\n",
       "    <tr>\n",
       "      <th>4</th>\n",
       "      <td>1992_CALIFORNIA</td>\n",
       "      <td>CALIFORNIA</td>\n",
       "      <td>1992</td>\n",
       "      <td>NaN</td>\n",
       "      <td>26260025.0</td>\n",
       "      <td>2072470.0</td>\n",
       "      <td>16546514.0</td>\n",
       "      <td>7641041.0</td>\n",
       "      <td>27138832.0</td>\n",
       "      <td>14358922.0</td>\n",
       "      <td>...</td>\n",
       "      <td>418418.0</td>\n",
       "      <td>363296.0</td>\n",
       "      <td>270675.0</td>\n",
       "      <td>3286034.0</td>\n",
       "      <td>1372011.0</td>\n",
       "      <td>4717112.0</td>\n",
       "      <td>208.398961</td>\n",
       "      <td>260.892247</td>\n",
       "      <td>196.764414</td>\n",
       "      <td>NaN</td>\n",
       "    </tr>\n",
       "  </tbody>\n",
       "</table>\n",
       "<p>5 rows × 25 columns</p>\n",
       "</div>"
      ],
      "text/plain": [
       "       PRIMARY_KEY       STATE  YEAR  ENROLL  TOTAL_REVENUE  FEDERAL_REVENUE  \\\n",
       "0     1992_ALABAMA     ALABAMA  1992     NaN      2678885.0         304177.0   \n",
       "1      1992_ALASKA      ALASKA  1992     NaN      1049591.0         106780.0   \n",
       "2     1992_ARIZONA     ARIZONA  1992     NaN      3258079.0         297888.0   \n",
       "3    1992_ARKANSAS    ARKANSAS  1992     NaN      1711959.0         178571.0   \n",
       "4  1992_CALIFORNIA  CALIFORNIA  1992     NaN     26260025.0        2072470.0   \n",
       "\n",
       "   STATE_REVENUE  LOCAL_REVENUE  TOTAL_EXPENDITURE  INSTRUCTION_EXPENDITURE  \\\n",
       "0      1659028.0       715680.0          2653798.0                1481703.0   \n",
       "1       720711.0       222100.0           972488.0                 498362.0   \n",
       "2      1369815.0      1590376.0          3401580.0                1435908.0   \n",
       "3       958785.0       574603.0          1743022.0                 964323.0   \n",
       "4     16546514.0      7641041.0         27138832.0               14358922.0   \n",
       "\n",
       "   ...  GRADES_4_G  GRADES_8_G  GRADES_12_G  GRADES_1_8_G  GRADES_9_12_G  \\\n",
       "0  ...     57948.0     58025.0      41167.0      471564.0       196386.0   \n",
       "1  ...      9748.0      8789.0       6714.0       79117.0        30847.0   \n",
       "2  ...     55433.0     49081.0      37410.0      437127.0       175210.0   \n",
       "3  ...     34632.0     36011.0      27651.0      281338.0       123113.0   \n",
       "4  ...    418418.0    363296.0     270675.0     3286034.0      1372011.0   \n",
       "\n",
       "   GRADES_ALL_G  AVG_MATH_4_SCORE  AVG_MATH_8_SCORE  AVG_READING_4_SCORE  \\\n",
       "0      676174.0        208.327876        252.187522           207.963517   \n",
       "1      112335.0               NaN               NaN                  NaN   \n",
       "2      614881.0        215.253932        265.366278           206.212716   \n",
       "3      405259.0        210.206028        256.312090           208.634458   \n",
       "4     4717112.0        208.398961        260.892247           196.764414   \n",
       "\n",
       "   AVG_READING_8_SCORE  \n",
       "0                  NaN  \n",
       "1           258.859712  \n",
       "2           262.169895  \n",
       "3           264.619665  \n",
       "4                  NaN  \n",
       "\n",
       "[5 rows x 25 columns]"
      ]
     },
     "execution_count": 3,
     "metadata": {},
     "output_type": "execute_result"
    }
   ],
   "source": [
    "usedu_df.head()"
   ]
  },
  {
   "cell_type": "code",
   "execution_count": 4,
   "metadata": {},
   "outputs": [],
   "source": [
    "usedu_df2 = usedu_df.copy()"
   ]
  },
  {
   "cell_type": "code",
   "execution_count": 5,
   "metadata": {},
   "outputs": [
    {
     "data": {
      "text/plain": [
       "count    1.280000e+03\n",
       "mean     9.092082e+06\n",
       "std      1.174519e+07\n",
       "min      4.656500e+05\n",
       "25%      2.186305e+06\n",
       "50%      5.079546e+06\n",
       "75%      1.085985e+07\n",
       "max      8.921726e+07\n",
       "Name: TOTAL_REVENUE, dtype: float64"
      ]
     },
     "execution_count": 5,
     "metadata": {},
     "output_type": "execute_result"
    }
   ],
   "source": [
    "usedu_df2['TOTAL_REVENUE'].describe()"
   ]
  },
  {
   "cell_type": "code",
   "execution_count": 6,
   "metadata": {},
   "outputs": [
    {
     "name": "stdout",
     "output_type": "stream",
     "text": [
      "<class 'pandas.core.frame.DataFrame'>\n",
      "RangeIndex: 1492 entries, 0 to 1491\n",
      "Data columns (total 25 columns):\n",
      "PRIMARY_KEY                     1492 non-null object\n",
      "STATE                           1492 non-null object\n",
      "YEAR                            1492 non-null int64\n",
      "ENROLL                          1229 non-null float64\n",
      "TOTAL_REVENUE                   1280 non-null float64\n",
      "FEDERAL_REVENUE                 1280 non-null float64\n",
      "STATE_REVENUE                   1280 non-null float64\n",
      "LOCAL_REVENUE                   1280 non-null float64\n",
      "TOTAL_EXPENDITURE               1280 non-null float64\n",
      "INSTRUCTION_EXPENDITURE         1280 non-null float64\n",
      "SUPPORT_SERVICES_EXPENDITURE    1280 non-null float64\n",
      "OTHER_EXPENDITURE               1229 non-null float64\n",
      "CAPITAL_OUTLAY_EXPENDITURE      1280 non-null float64\n",
      "GRADES_PK_G                     1319 non-null float64\n",
      "GRADES_KG_G                     1360 non-null float64\n",
      "GRADES_4_G                      1361 non-null float64\n",
      "GRADES_8_G                      1361 non-null float64\n",
      "GRADES_12_G                     1361 non-null float64\n",
      "GRADES_1_8_G                    1361 non-null float64\n",
      "GRADES_9_12_G                   1361 non-null float64\n",
      "GRADES_ALL_G                    1319 non-null float64\n",
      "AVG_MATH_4_SCORE                536 non-null float64\n",
      "AVG_MATH_8_SCORE                532 non-null float64\n",
      "AVG_READING_4_SCORE             533 non-null float64\n",
      "AVG_READING_8_SCORE             498 non-null float64\n",
      "dtypes: float64(22), int64(1), object(2)\n",
      "memory usage: 291.5+ KB\n"
     ]
    }
   ],
   "source": [
    "usedu_df2.info()"
   ]
  },
  {
   "cell_type": "code",
   "execution_count": 7,
   "metadata": {},
   "outputs": [
    {
     "data": {
      "text/plain": [
       "1492"
      ]
     },
     "execution_count": 7,
     "metadata": {},
     "output_type": "execute_result"
    }
   ],
   "source": [
    "usedu_df2['TOTAL_REVENUE'].isnull().sum() + 1280"
   ]
  },
  {
   "cell_type": "code",
   "execution_count": 8,
   "metadata": {},
   "outputs": [],
   "source": [
    "col_list= ['TOTAL_REVENUE', 'TOTAL_EXPENDITURE']\n",
    "\n",
    "for col in col_list:\n",
    "    usedu_df2.loc[:, col].fillna(usedu_df2.loc[:,col].mean(), inplace=True)"
   ]
  },
  {
   "cell_type": "code",
   "execution_count": 9,
   "metadata": {},
   "outputs": [
    {
     "data": {
      "text/plain": [
       "TOTAL_REVENUE        0\n",
       "TOTAL_EXPENDITURE    0\n",
       "dtype: int64"
      ]
     },
     "execution_count": 9,
     "metadata": {},
     "output_type": "execute_result"
    }
   ],
   "source": [
    "usedu_df2[['TOTAL_REVENUE', 'TOTAL_EXPENDITURE']].isnull().sum()"
   ]
  },
  {
   "cell_type": "code",
   "execution_count": 10,
   "metadata": {},
   "outputs": [],
   "source": [
    "usedu_df3 = usedu_df.copy()"
   ]
  },
  {
   "cell_type": "code",
   "execution_count": 11,
   "metadata": {},
   "outputs": [],
   "source": [
    "for col in col_list:\n",
    "    usedu_df3.loc[:, col].interpolate(inplace=True)"
   ]
  },
  {
   "cell_type": "code",
   "execution_count": 12,
   "metadata": {},
   "outputs": [
    {
     "data": {
      "text/plain": [
       "TOTAL_REVENUE        0\n",
       "TOTAL_EXPENDITURE    0\n",
       "dtype: int64"
      ]
     },
     "execution_count": 12,
     "metadata": {},
     "output_type": "execute_result"
    }
   ],
   "source": [
    "usedu_df3[['TOTAL_REVENUE', 'TOTAL_EXPENDITURE']].isnull().sum()"
   ]
  },
  {
   "cell_type": "code",
   "execution_count": 13,
   "metadata": {
    "scrolled": true
   },
   "outputs": [
    {
     "data": {
      "text/html": [
       "<div>\n",
       "<style scoped>\n",
       "    .dataframe tbody tr th:only-of-type {\n",
       "        vertical-align: middle;\n",
       "    }\n",
       "\n",
       "    .dataframe tbody tr th {\n",
       "        vertical-align: top;\n",
       "    }\n",
       "\n",
       "    .dataframe thead th {\n",
       "        text-align: right;\n",
       "    }\n",
       "</style>\n",
       "<table border=\"1\" class=\"dataframe\">\n",
       "  <thead>\n",
       "    <tr style=\"text-align: right;\">\n",
       "      <th></th>\n",
       "      <th>TOTAL_REVENUE</th>\n",
       "      <th>TOTAL_EXPENDITURE</th>\n",
       "    </tr>\n",
       "  </thead>\n",
       "  <tbody>\n",
       "    <tr>\n",
       "      <th>0</th>\n",
       "      <td>2678885.0</td>\n",
       "      <td>2653798.0</td>\n",
       "    </tr>\n",
       "    <tr>\n",
       "      <th>1</th>\n",
       "      <td>1049591.0</td>\n",
       "      <td>972488.0</td>\n",
       "    </tr>\n",
       "    <tr>\n",
       "      <th>2</th>\n",
       "      <td>3258079.0</td>\n",
       "      <td>3401580.0</td>\n",
       "    </tr>\n",
       "    <tr>\n",
       "      <th>3</th>\n",
       "      <td>1711959.0</td>\n",
       "      <td>1743022.0</td>\n",
       "    </tr>\n",
       "    <tr>\n",
       "      <th>4</th>\n",
       "      <td>26260025.0</td>\n",
       "      <td>27138832.0</td>\n",
       "    </tr>\n",
       "  </tbody>\n",
       "</table>\n",
       "</div>"
      ],
      "text/plain": [
       "   TOTAL_REVENUE  TOTAL_EXPENDITURE\n",
       "0      2678885.0          2653798.0\n",
       "1      1049591.0           972488.0\n",
       "2      3258079.0          3401580.0\n",
       "3      1711959.0          1743022.0\n",
       "4     26260025.0         27138832.0"
      ]
     },
     "execution_count": 13,
     "metadata": {},
     "output_type": "execute_result"
    }
   ],
   "source": [
    "usedu_df3[['TOTAL_REVENUE', 'TOTAL_EXPENDITURE']].head()"
   ]
  },
  {
   "cell_type": "markdown",
   "metadata": {},
   "source": [
    "### 1. Consider the two variables: TOTAL_REVENUE and TOTAL_EXPENDITURE. Do these variables have outlier values? ###\n",
    "\n",
    "Let's find out with some visualization tools. I prefer to use interpolated data to mean inserted data. So I am going to use usedu_df3.\n",
    "I am going to draw two column data as box plot and histogram"
   ]
  },
  {
   "cell_type": "code",
   "execution_count": 14,
   "metadata": {
    "scrolled": false
   },
   "outputs": [
    {
     "data": {
      "image/png": "[encoded data removed]",
      "text/plain": [
       "<Figure size 1080x432 with 2 Axes>"
      ]
     },
     "metadata": {
      "needs_background": "light"
     },
     "output_type": "display_data"
    },
    {
     "data": {
      "image/png": "[encoded data removed]",
      "text/plain": [
       "<Figure size 1080x432 with 2 Axes>"
      ]
     },
     "metadata": {
      "needs_background": "light"
     },
     "output_type": "display_data"
    }
   ],
   "source": [
    "plt.figure(figsize=(15,6))\n",
    "\n",
    "plt.subplot(1,2,1)\n",
    "plt.boxplot(usedu_df3['TOTAL_REVENUE'])\n",
    "\n",
    "plt.subplot(1,2,2)\n",
    "plt.boxplot(usedu_df3['TOTAL_EXPENDITURE'])\n",
    "plt.show()\n",
    "\n",
    "plt.figure(figsize=(15,6))\n",
    "plt.subplot(1,2,1)\n",
    "plt.hist(usedu_df3['TOTAL_REVENUE'])\n",
    "\n",
    "plt.subplot(1,2,2)\n",
    "plt.hist(usedu_df3['TOTAL_EXPENDITURE'])\n",
    "plt.show()"
   ]
  },
  {
   "cell_type": "markdown",
   "metadata": {},
   "source": [
    "Yeah, those are looked like having some outlier values.  \n",
    "Now, let's use some stastical method to figure it out!  \n",
    "\n",
    "The first one, we are going to check the **z-score** for both case."
   ]
  },
  {
   "cell_type": "code",
   "execution_count": 15,
   "metadata": {},
   "outputs": [
    {
     "name": "stdout",
     "output_type": "stream",
     "text": [
      "The score threshold is: 1\n",
      "The indices of the outliers:\n",
      "(array([   4,   56,  108,  137,  150,  161,  190,  213,  241,  264,  292,\n",
      "        316,  344,  355,  367,  396,  407,  420,  449,  460,  472,  481,\n",
      "        501,  512,  524,  552,  564,  576,  605,  616,  628,  656,  668,\n",
      "        680,  685,  708,  719,  731,  737,  758,  760,  766,  771,  784,\n",
      "        789,  793,  811,  813,  819,  824,  836,  842,  846,  863,  865,\n",
      "        871,  876,  891,  897,  901,  919,  921,  927,  932,  944,  950,\n",
      "        954,  971,  973,  976,  979,  984,  997, 1002, 1006, 1023, 1025,\n",
      "       1028, 1031, 1036, 1048, 1053, 1057, 1075, 1077, 1083, 1088, 1101,\n",
      "       1106, 1110, 1127, 1129, 1135, 1140, 1152, 1157, 1161, 1178, 1180,\n",
      "       1183, 1186, 1191, 1203, 1208, 1212, 1229, 1231, 1234, 1237, 1242,\n",
      "       1254, 1259, 1263, 1280, 1282, 1285, 1286, 1287, 1288, 1289, 1290,\n",
      "       1291, 1292, 1293, 1294, 1295, 1296, 1297, 1298, 1299, 1300, 1301,\n",
      "       1302, 1303, 1304, 1305, 1306, 1307, 1308, 1309, 1310, 1311, 1312,\n",
      "       1313, 1314, 1315, 1316, 1317, 1318, 1319, 1320, 1321, 1322, 1323,\n",
      "       1324, 1325, 1326, 1327, 1328, 1329, 1330, 1331, 1332, 1333, 1334,\n",
      "       1335, 1336, 1337, 1338, 1339, 1340, 1341, 1342, 1343, 1344, 1345,\n",
      "       1346, 1347, 1348, 1349, 1350, 1351, 1352, 1353, 1354, 1355, 1356,\n",
      "       1357, 1358, 1359, 1360, 1361, 1362, 1363, 1364, 1365, 1366, 1367,\n",
      "       1368, 1369, 1370, 1371, 1372, 1373, 1374, 1375, 1376, 1377, 1378,\n",
      "       1379, 1380, 1381, 1382, 1383, 1384, 1385, 1386, 1387, 1388, 1389,\n",
      "       1390, 1391, 1392, 1393, 1394, 1395, 1396, 1397, 1398, 1399, 1400,\n",
      "       1401, 1402, 1403, 1404, 1405, 1406, 1407, 1408, 1409, 1410, 1411,\n",
      "       1412, 1413, 1414, 1415, 1416, 1417, 1418, 1419, 1420, 1421, 1422,\n",
      "       1423, 1424, 1425, 1426, 1427, 1428, 1429, 1430, 1431, 1432, 1433,\n",
      "       1434, 1435, 1436, 1437, 1438, 1439, 1440, 1441, 1442, 1443, 1444,\n",
      "       1445, 1446, 1447, 1448, 1449, 1450, 1451, 1452, 1453, 1454, 1455,\n",
      "       1456, 1457, 1458, 1459, 1460, 1461, 1462, 1463, 1464, 1465, 1466,\n",
      "       1467, 1468, 1469, 1470, 1471, 1472, 1473, 1474, 1475, 1476, 1477,\n",
      "       1478, 1479, 1480, 1481, 1482, 1483, 1484, 1485, 1486, 1487, 1488,\n",
      "       1489, 1490, 1491]),)\n",
      "Number of outliers is: 322 \n",
      "\n",
      "The score threshold is: 2\n",
      "The indices of the outliers:\n",
      "(array([ 264,  316,  367,  420,  472,  481,  524,  552,  576,  605,  616,\n",
      "        628,  656,  668,  680,  708,  719,  731,  760,  771,  784,  813,\n",
      "        824,  836,  865,  876,  891,  921,  932,  944,  973,  984,  997,\n",
      "       1025, 1036, 1048, 1077, 1088, 1101, 1129, 1140, 1152, 1180, 1191,\n",
      "       1203, 1231, 1242, 1254, 1282]),)\n",
      "Number of outliers is: 49 \n",
      "\n",
      "The score threshold is: 3\n",
      "The indices of the outliers:\n",
      "(array([ 472,  481,  524,  576,  628,  680,  731,  784,  813,  836,  865,\n",
      "        891,  921,  932,  944,  973,  984,  997, 1025, 1036, 1048, 1077,\n",
      "       1088, 1101, 1129, 1140, 1152, 1180, 1191, 1203, 1231, 1242, 1254,\n",
      "       1282]),)\n",
      "Number of outliers is: 34 \n",
      "\n",
      "The score threshold is: 4\n",
      "The indices of the outliers:\n",
      "(array([ 576,  628,  680,  731,  784,  836,  891,  944,  997, 1048, 1101,\n",
      "       1129, 1152, 1180, 1203, 1231, 1254, 1282]),)\n",
      "Number of outliers is: 18 \n",
      "\n"
     ]
    }
   ],
   "source": [
    "from scipy.stats import zscore\n",
    "\n",
    "TR_zscore = zscore(usedu_df3['TOTAL_REVENUE'])\n",
    "\n",
    "for threshold in range(1,5):\n",
    "    print(\"The score threshold is: {}\".format(threshold))\n",
    "    print(\"The indices of the outliers:\")\n",
    "    print(np.where(TR_zscore > threshold))\n",
    "    print('Number of outliers is: {}'.format(len(np.where(TR_zscore > threshold)[0])), '\\n')"
   ]
  },
  {
   "cell_type": "code",
   "execution_count": 16,
   "metadata": {},
   "outputs": [
    {
     "name": "stdout",
     "output_type": "stream",
     "text": [
      "The score threshold is: 1\n",
      "The indices of the outliers:\n",
      "(array([   4,   56,   85,  137,  150,  161,  190,  213,  241,  264,  292,\n",
      "        304,  316,  344,  355,  367,  396,  407,  420,  449,  460,  472,\n",
      "        481,  501,  512,  524,  552,  564,  576,  605,  616,  628,  656,\n",
      "        668,  680,  685,  708,  719,  731,  737,  758,  760,  766,  771,\n",
      "        784,  789,  793,  811,  813,  819,  824,  836,  842,  846,  863,\n",
      "        865,  871,  876,  891,  897,  901,  919,  921,  927,  932,  944,\n",
      "        950,  954,  971,  973,  979,  984,  997, 1002, 1006, 1023, 1025,\n",
      "       1031, 1036, 1048, 1053, 1057, 1075, 1077, 1083, 1088, 1101, 1106,\n",
      "       1110, 1127, 1129, 1135, 1140, 1152, 1157, 1161, 1178, 1180, 1186,\n",
      "       1191, 1203, 1208, 1212, 1229, 1231, 1237, 1242, 1254, 1259, 1263,\n",
      "       1280, 1282, 1285, 1286, 1287, 1288, 1289, 1290, 1291, 1292, 1293,\n",
      "       1294, 1295, 1296, 1297, 1298, 1299, 1300, 1301, 1302, 1303, 1304,\n",
      "       1305, 1306, 1307, 1308, 1309, 1310, 1311, 1312, 1313, 1314, 1315,\n",
      "       1316, 1317, 1318, 1319, 1320, 1321, 1322, 1323, 1324, 1325, 1326,\n",
      "       1327, 1328, 1329, 1330, 1331, 1332, 1333, 1334, 1335, 1336, 1337,\n",
      "       1338, 1339, 1340, 1341, 1342, 1343, 1344, 1345, 1346, 1347, 1348,\n",
      "       1349, 1350, 1351, 1352, 1353, 1354, 1355, 1356, 1357, 1358, 1359,\n",
      "       1360, 1361, 1362, 1363, 1364, 1365, 1366, 1367, 1368, 1369, 1370,\n",
      "       1371, 1372, 1373, 1374, 1375, 1376, 1377, 1378, 1379, 1380, 1381,\n",
      "       1382, 1383, 1384, 1385, 1386, 1387, 1388, 1389, 1390, 1391, 1392,\n",
      "       1393, 1394, 1395, 1396, 1397, 1398, 1399, 1400, 1401, 1402, 1403,\n",
      "       1404, 1405, 1406, 1407, 1408, 1409, 1410, 1411, 1412, 1413, 1414,\n",
      "       1415, 1416, 1417, 1418, 1419, 1420, 1421, 1422, 1423, 1424, 1425,\n",
      "       1426, 1427, 1428, 1429, 1430, 1431, 1432, 1433, 1434, 1435, 1436,\n",
      "       1437, 1438, 1439, 1440, 1441, 1442, 1443, 1444, 1445, 1446, 1447,\n",
      "       1448, 1449, 1450, 1451, 1452, 1453, 1454, 1455, 1456, 1457, 1458,\n",
      "       1459, 1460, 1461, 1462, 1463, 1464, 1465, 1466, 1467, 1468, 1469,\n",
      "       1470, 1471, 1472, 1473, 1474, 1475, 1476, 1477, 1478, 1479, 1480,\n",
      "       1481, 1482, 1483, 1484, 1485, 1486, 1487, 1488, 1489, 1490, 1491]),)\n",
      "Number of outliers is: 319 \n",
      "\n",
      "The score threshold is: 2\n",
      "The indices of the outliers:\n",
      "(array([ 316,  367,  420,  472,  481,  501,  524,  552,  564,  576,  605,\n",
      "        616,  628,  656,  668,  680,  708,  719,  731,  760,  771,  784,\n",
      "        813,  824,  836,  865,  876,  891,  921,  932,  944,  973,  984,\n",
      "        997, 1025, 1036, 1048, 1077, 1088, 1101, 1129, 1140, 1152, 1180,\n",
      "       1191, 1203, 1231, 1242, 1254, 1282]),)\n",
      "Number of outliers is: 50 \n",
      "\n",
      "The score threshold is: 3\n",
      "The indices of the outliers:\n",
      "(array([ 472,  481,  524,  576,  628,  680,  731,  760,  784,  813,  836,\n",
      "        865,  876,  891,  921,  932,  944,  973,  984,  997, 1025, 1036,\n",
      "       1048, 1077, 1088, 1101, 1129, 1140, 1152, 1180, 1191, 1203, 1231,\n",
      "       1242, 1254, 1282]),)\n",
      "Number of outliers is: 36 \n",
      "\n",
      "The score threshold is: 4\n",
      "The indices of the outliers:\n",
      "(array([ 576,  628,  680,  731,  784,  836,  891,  944,  973,  997, 1048,\n",
      "       1077, 1101, 1129, 1152, 1180, 1203, 1231, 1254, 1282]),)\n",
      "Number of outliers is: 20 \n",
      "\n"
     ]
    }
   ],
   "source": [
    "TE_zscore = zscore(usedu_df3['TOTAL_EXPENDITURE'])\n",
    "\n",
    "for threshold in range(1, 5):\n",
    "    print(\"The score threshold is: {}\".format(threshold))\n",
    "    print(\"The indices of the outliers:\")\n",
    "    print(np.where(TE_zscore > threshold))\n",
    "    print('Number of outliers is: {}'.format(len(np.where(TE_zscore > threshold)[0])), '\\n')"
   ]
  },
  {
   "cell_type": "markdown",
   "metadata": {},
   "source": [
    "I have a criteria that I will just consider the values upto 3 z-score. Because 3 z-score means that 95% data are in the range. So, It is enough for me and statistically.  \n",
    "\n",
    "Now, let's check the data with **IQR (Interquartile Range) method**"
   ]
  },
  {
   "cell_type": "code",
   "execution_count": 17,
   "metadata": {},
   "outputs": [
    {
     "name": "stdout",
     "output_type": "stream",
     "text": [
      "The score threshold is 1.0\n",
      "Number of outliers is 50 \n",
      "\n",
      "The score threshold is 1.5\n",
      "Number of outliers is 40 \n",
      "\n",
      "The score threshold is 2.0\n",
      "Number of outliers is 33 \n",
      "\n",
      "The score threshold is 2.5\n",
      "Number of outliers is 21 \n",
      "\n",
      "The score threshold is 3.0\n",
      "Number of outliers is 12 \n",
      "\n",
      "The score threshold is 3.5\n",
      "Number of outliers is 6 \n",
      "\n",
      "The score threshold is 4.0\n",
      "Number of outliers is 1 \n",
      "\n",
      "The score threshold is 4.5\n",
      "Number of outliers is 1 \n",
      "\n"
     ]
    }
   ],
   "source": [
    "q75, q25 = np.percentile(usedu_df3['TOTAL_REVENUE'], [75, 25])\n",
    "iqr = q75 - q25\n",
    "\n",
    "for threshold in np.arange(1,5,0.5):\n",
    "    min_val = q25 - (iqr*threshold)\n",
    "    max_val = q75 + (iqr*threshold)\n",
    "    print('The score threshold is {}'.format(threshold))\n",
    "    print('Number of outliers is {}'.format(len(np.where((usedu_df3['TOTAL_REVENUE'] > max_val) | (usedu_df3['TOTAL_REVENUE'] < min_val))[0])), '\\n')\n"
   ]
  },
  {
   "cell_type": "code",
   "execution_count": 18,
   "metadata": {},
   "outputs": [
    {
     "name": "stdout",
     "output_type": "stream",
     "text": [
      "The score threshold is 1.0\n",
      "Number of outliers is 52 \n",
      "\n",
      "The score threshold is 1.5\n",
      "Number of outliers is 42 \n",
      "\n",
      "The score threshold is 2.0\n",
      "Number of outliers is 35 \n",
      "\n",
      "The score threshold is 2.5\n",
      "Number of outliers is 23 \n",
      "\n",
      "The score threshold is 3.0\n",
      "Number of outliers is 14 \n",
      "\n",
      "The score threshold is 3.5\n",
      "Number of outliers is 6 \n",
      "\n",
      "The score threshold is 4.0\n",
      "Number of outliers is 1 \n",
      "\n",
      "The score threshold is 4.5\n",
      "Number of outliers is 0 \n",
      "\n"
     ]
    }
   ],
   "source": [
    "TE_q75, TE_q25 = np.percentile(usedu_df3['TOTAL_EXPENDITURE'], [75, 25])\n",
    "TE_iqr = TE_q75 - TE_q25\n",
    "\n",
    "for threshold in np.arange(1,5,0.5):\n",
    "    TE_min_val = TE_q25 - (TE_iqr*threshold)\n",
    "    TE_max_val = TE_q75 + (TE_iqr*threshold)\n",
    "    print('The score threshold is {}'.format(threshold))\n",
    "    print('Number of outliers is {}'.format(len(np.where((usedu_df3['TOTAL_EXPENDITURE'] <TE_min_val) \n",
    "                                                         | (usedu_df3['TOTAL_EXPENDITURE'] > TE_max_val))[0])), '\\n')"
   ]
  },
  {
   "cell_type": "markdown",
   "metadata": {},
   "source": [
    "Now, it is time to answer number 1 question that **The data has outliers.**"
   ]
  },
  {
   "cell_type": "markdown",
   "metadata": {},
   "source": [
    "### 2. If you detect outliers in the TOTAL_REVENUE and TOTAL_EXPENDITURE variables, apply the techniques you learned in this checkpoint to eliminate them and validate that there's no outlier values after you handled them.###"
   ]
  },
  {
   "cell_type": "markdown",
   "metadata": {},
   "source": [
    "I am going to use 'WINSORIZE' from SCIPY and then I am going to make the data log scale.  \n",
    "For the winsorizing, I will set the values of the outliers to the value of the 95%.  \n",
    "\n",
    "Let's see how it works."
   ]
  },
  {
   "cell_type": "code",
   "execution_count": 19,
   "metadata": {},
   "outputs": [],
   "source": [
    "from scipy.stats.mstats import winsorize\n",
    "\n",
    "winsorized_TR = winsorize(usedu_df3['TOTAL_REVENUE'], (0.025, 0.025))\n",
    "winsorized_TE = winsorize(usedu_df3['TOTAL_EXPENDITURE'], (0.025, 0.025))"
   ]
  },
  {
   "cell_type": "code",
   "execution_count": 20,
   "metadata": {},
   "outputs": [
    {
     "data": {
      "image/png": "[encoded data removed]",
      "text/plain": [
       "<Figure size 1080x1440 with 4 Axes>"
      ]
     },
     "metadata": {
      "needs_background": "light"
     },
     "output_type": "display_data"
    }
   ],
   "source": [
    "plt.figure(figsize=(15,20))\n",
    "\n",
    "plt.subplot(2,2,1)\n",
    "plt.boxplot(usedu_df3['TOTAL_REVENUE'])\n",
    "plt.title('No winsorized TR (whis=1.5)')\n",
    "\n",
    "plt.subplot(2,2,2)\n",
    "plt.boxplot(winsorized_TR)\n",
    "plt.title('Winsorized TR (whis=1.5)')\n",
    "\n",
    "plt.subplot(2,2,3)\n",
    "plt.boxplot(usedu_df3['TOTAL_EXPENDITURE'])\n",
    "plt.title('No winsorized TE (whis=1.5)')\n",
    "\n",
    "plt.subplot(2,2,4)\n",
    "plt.boxplot(winsorized_TE)\n",
    "plt.title('Winsorized TR (whis=1.5)')\n",
    "plt.show()"
   ]
  },
  {
   "cell_type": "markdown",
   "metadata": {},
   "source": [
    "Next, let's draw some graph with log scale by histogram."
   ]
  },
  {
   "cell_type": "code",
   "execution_count": 21,
   "metadata": {},
   "outputs": [
    {
     "data": {
      "image/png": "[encoded data removed]",
      "text/plain": [
       "<Figure size 936x936 with 4 Axes>"
      ]
     },
     "metadata": {
      "needs_background": "light"
     },
     "output_type": "display_data"
    }
   ],
   "source": [
    "plt.figure(figsize=(13,13))\n",
    "\n",
    "plt.subplot(2,2,1)\n",
    "plt.hist(usedu_df3['TOTAL_REVENUE'], bins=25)\n",
    "plt.title('No Log-scaled TR')\n",
    "\n",
    "plt.subplot(2,2,2)\n",
    "plt.hist(np.log(usedu_df3['TOTAL_REVENUE']), bins=25)\n",
    "plt.title('Log-scaled TR')\n",
    "\n",
    "plt.subplot(2,2,3)\n",
    "plt.hist(usedu_df3['TOTAL_EXPENDITURE'], bins=25)\n",
    "plt.title('No Log-scaled TE')\n",
    "\n",
    "plt.subplot(2,2,4)\n",
    "plt.hist(np.log(usedu_df3['TOTAL_EXPENDITURE']), bins=25)\n",
    "plt.title('Log-scaled TE')\n",
    "plt.show()"
   ]
  },
  {
   "cell_type": "markdown",
   "metadata": {},
   "source": [
    "Now, let's draw some graphs with log-scaled data by boxplot."
   ]
  },
  {
   "cell_type": "code",
   "execution_count": 22,
   "metadata": {},
   "outputs": [
    {
     "data": {
      "image/png": "[encoded data removed]",
      "text/plain": [
       "<Figure size 936x936 with 4 Axes>"
      ]
     },
     "metadata": {
      "needs_background": "light"
     },
     "output_type": "display_data"
    }
   ],
   "source": [
    "plt.figure(figsize=(13,13))\n",
    "\n",
    "plt.subplot(2,2,1)\n",
    "plt.boxplot(usedu_df3['TOTAL_REVENUE'])\n",
    "plt.title('No Log-scaled TR')\n",
    "\n",
    "plt.subplot(2,2,2)\n",
    "plt.boxplot(np.log(usedu_df3['TOTAL_REVENUE']))\n",
    "plt.title('Log-scaled TR')\n",
    "\n",
    "plt.subplot(2,2,3)\n",
    "plt.boxplot(usedu_df3['TOTAL_EXPENDITURE'])\n",
    "plt.title('No Log-scaled TE')\n",
    "\n",
    "plt.subplot(2,2,4)\n",
    "plt.boxplot(np.log(usedu_df3['TOTAL_EXPENDITURE']))\n",
    "plt.title('Log-scaled TE')\n",
    "plt.show()"
   ]
  },
  {
   "cell_type": "markdown",
   "metadata": {},
   "source": [
    "It is amazing that the boxplots of log-scaled data show that clean and neat graph."
   ]
  },
  {
   "cell_type": "markdown",
   "metadata": {},
   "source": [
    "### 3. Create another variable by subtracting the original TOTAL_EXPENDITURE from TOTAL_REVENUE (before you eliminated the outliers). You can think of it as a kind of budget deficit in education. Do you find any outlier values in this new variable? If so, eliminate them using the technique you think most suitable."
   ]
  },
  {
   "cell_type": "code",
   "execution_count": 23,
   "metadata": {},
   "outputs": [],
   "source": [
    "deficit_budget = usedu_df3['TOTAL_REVENUE'] - usedu_df3['TOTAL_EXPENDITURE']"
   ]
  },
  {
   "cell_type": "code",
   "execution_count": 24,
   "metadata": {},
   "outputs": [],
   "source": [
    "deficit_budget = pd.DataFrame(deficit_budget)"
   ]
  },
  {
   "cell_type": "code",
   "execution_count": 25,
   "metadata": {},
   "outputs": [],
   "source": [
    "deficit_budget.columns = ['deficit budget']"
   ]
  },
  {
   "cell_type": "code",
   "execution_count": 26,
   "metadata": {
    "collapsed": true
   },
   "outputs": [
    {
     "data": {
      "text/html": [
       "<div>\n",
       "<style scoped>\n",
       "    .dataframe tbody tr th:only-of-type {\n",
       "        vertical-align: middle;\n",
       "    }\n",
       "\n",
       "    .dataframe tbody tr th {\n",
       "        vertical-align: top;\n",
       "    }\n",
       "\n",
       "    .dataframe thead th {\n",
       "        text-align: right;\n",
       "    }\n",
       "</style>\n",
       "<table border=\"1\" class=\"dataframe\">\n",
       "  <thead>\n",
       "    <tr style=\"text-align: right;\">\n",
       "      <th></th>\n",
       "      <th>deficit budget</th>\n",
       "    </tr>\n",
       "  </thead>\n",
       "  <tbody>\n",
       "    <tr>\n",
       "      <th>0</th>\n",
       "      <td>25087.0</td>\n",
       "    </tr>\n",
       "    <tr>\n",
       "      <th>1</th>\n",
       "      <td>77103.0</td>\n",
       "    </tr>\n",
       "    <tr>\n",
       "      <th>2</th>\n",
       "      <td>-143501.0</td>\n",
       "    </tr>\n",
       "    <tr>\n",
       "      <th>3</th>\n",
       "      <td>-31063.0</td>\n",
       "    </tr>\n",
       "    <tr>\n",
       "      <th>4</th>\n",
       "      <td>-878807.0</td>\n",
       "    </tr>\n",
       "    <tr>\n",
       "      <th>5</th>\n",
       "      <td>-79653.0</td>\n",
       "    </tr>\n",
       "    <tr>\n",
       "      <th>6</th>\n",
       "      <td>112964.0</td>\n",
       "    </tr>\n",
       "    <tr>\n",
       "      <th>7</th>\n",
       "      <td>6449.0</td>\n",
       "    </tr>\n",
       "    <tr>\n",
       "      <th>8</th>\n",
       "      <td>-33413.0</td>\n",
       "    </tr>\n",
       "    <tr>\n",
       "      <th>9</th>\n",
       "      <td>200657.0</td>\n",
       "    </tr>\n",
       "    <tr>\n",
       "      <th>10</th>\n",
       "      <td>959.0</td>\n",
       "    </tr>\n",
       "    <tr>\n",
       "      <th>11</th>\n",
       "      <td>-43312.0</td>\n",
       "    </tr>\n",
       "    <tr>\n",
       "      <th>12</th>\n",
       "      <td>-26832.0</td>\n",
       "    </tr>\n",
       "    <tr>\n",
       "      <th>13</th>\n",
       "      <td>-101910.0</td>\n",
       "    </tr>\n",
       "    <tr>\n",
       "      <th>14</th>\n",
       "      <td>-122480.0</td>\n",
       "    </tr>\n",
       "    <tr>\n",
       "      <th>15</th>\n",
       "      <td>-131840.0</td>\n",
       "    </tr>\n",
       "    <tr>\n",
       "      <th>16</th>\n",
       "      <td>10433.0</td>\n",
       "    </tr>\n",
       "    <tr>\n",
       "      <th>17</th>\n",
       "      <td>124820.0</td>\n",
       "    </tr>\n",
       "    <tr>\n",
       "      <th>18</th>\n",
       "      <td>-21600.0</td>\n",
       "    </tr>\n",
       "    <tr>\n",
       "      <th>19</th>\n",
       "      <td>-22050.0</td>\n",
       "    </tr>\n",
       "    <tr>\n",
       "      <th>20</th>\n",
       "      <td>-39876.0</td>\n",
       "    </tr>\n",
       "    <tr>\n",
       "      <th>21</th>\n",
       "      <td>272099.0</td>\n",
       "    </tr>\n",
       "    <tr>\n",
       "      <th>22</th>\n",
       "      <td>-207551.0</td>\n",
       "    </tr>\n",
       "    <tr>\n",
       "      <th>23</th>\n",
       "      <td>-296441.0</td>\n",
       "    </tr>\n",
       "    <tr>\n",
       "      <th>24</th>\n",
       "      <td>-7284.0</td>\n",
       "    </tr>\n",
       "    <tr>\n",
       "      <th>25</th>\n",
       "      <td>-153918.0</td>\n",
       "    </tr>\n",
       "    <tr>\n",
       "      <th>26</th>\n",
       "      <td>47974.0</td>\n",
       "    </tr>\n",
       "    <tr>\n",
       "      <th>27</th>\n",
       "      <td>8367.0</td>\n",
       "    </tr>\n",
       "    <tr>\n",
       "      <th>28</th>\n",
       "      <td>-154575.0</td>\n",
       "    </tr>\n",
       "    <tr>\n",
       "      <th>29</th>\n",
       "      <td>-3256.0</td>\n",
       "    </tr>\n",
       "    <tr>\n",
       "      <th>...</th>\n",
       "      <td>...</td>\n",
       "    </tr>\n",
       "    <tr>\n",
       "      <th>1462</th>\n",
       "      <td>414013.0</td>\n",
       "    </tr>\n",
       "    <tr>\n",
       "      <th>1463</th>\n",
       "      <td>414013.0</td>\n",
       "    </tr>\n",
       "    <tr>\n",
       "      <th>1464</th>\n",
       "      <td>414013.0</td>\n",
       "    </tr>\n",
       "    <tr>\n",
       "      <th>1465</th>\n",
       "      <td>414013.0</td>\n",
       "    </tr>\n",
       "    <tr>\n",
       "      <th>1466</th>\n",
       "      <td>414013.0</td>\n",
       "    </tr>\n",
       "    <tr>\n",
       "      <th>1467</th>\n",
       "      <td>414013.0</td>\n",
       "    </tr>\n",
       "    <tr>\n",
       "      <th>1468</th>\n",
       "      <td>414013.0</td>\n",
       "    </tr>\n",
       "    <tr>\n",
       "      <th>1469</th>\n",
       "      <td>414013.0</td>\n",
       "    </tr>\n",
       "    <tr>\n",
       "      <th>1470</th>\n",
       "      <td>414013.0</td>\n",
       "    </tr>\n",
       "    <tr>\n",
       "      <th>1471</th>\n",
       "      <td>414013.0</td>\n",
       "    </tr>\n",
       "    <tr>\n",
       "      <th>1472</th>\n",
       "      <td>414013.0</td>\n",
       "    </tr>\n",
       "    <tr>\n",
       "      <th>1473</th>\n",
       "      <td>414013.0</td>\n",
       "    </tr>\n",
       "    <tr>\n",
       "      <th>1474</th>\n",
       "      <td>414013.0</td>\n",
       "    </tr>\n",
       "    <tr>\n",
       "      <th>1475</th>\n",
       "      <td>414013.0</td>\n",
       "    </tr>\n",
       "    <tr>\n",
       "      <th>1476</th>\n",
       "      <td>414013.0</td>\n",
       "    </tr>\n",
       "    <tr>\n",
       "      <th>1477</th>\n",
       "      <td>414013.0</td>\n",
       "    </tr>\n",
       "    <tr>\n",
       "      <th>1478</th>\n",
       "      <td>414013.0</td>\n",
       "    </tr>\n",
       "    <tr>\n",
       "      <th>1479</th>\n",
       "      <td>414013.0</td>\n",
       "    </tr>\n",
       "    <tr>\n",
       "      <th>1480</th>\n",
       "      <td>414013.0</td>\n",
       "    </tr>\n",
       "    <tr>\n",
       "      <th>1481</th>\n",
       "      <td>414013.0</td>\n",
       "    </tr>\n",
       "    <tr>\n",
       "      <th>1482</th>\n",
       "      <td>414013.0</td>\n",
       "    </tr>\n",
       "    <tr>\n",
       "      <th>1483</th>\n",
       "      <td>414013.0</td>\n",
       "    </tr>\n",
       "    <tr>\n",
       "      <th>1484</th>\n",
       "      <td>414013.0</td>\n",
       "    </tr>\n",
       "    <tr>\n",
       "      <th>1485</th>\n",
       "      <td>414013.0</td>\n",
       "    </tr>\n",
       "    <tr>\n",
       "      <th>1486</th>\n",
       "      <td>414013.0</td>\n",
       "    </tr>\n",
       "    <tr>\n",
       "      <th>1487</th>\n",
       "      <td>414013.0</td>\n",
       "    </tr>\n",
       "    <tr>\n",
       "      <th>1488</th>\n",
       "      <td>414013.0</td>\n",
       "    </tr>\n",
       "    <tr>\n",
       "      <th>1489</th>\n",
       "      <td>414013.0</td>\n",
       "    </tr>\n",
       "    <tr>\n",
       "      <th>1490</th>\n",
       "      <td>414013.0</td>\n",
       "    </tr>\n",
       "    <tr>\n",
       "      <th>1491</th>\n",
       "      <td>414013.0</td>\n",
       "    </tr>\n",
       "  </tbody>\n",
       "</table>\n",
       "<p>1492 rows × 1 columns</p>\n",
       "</div>"
      ],
      "text/plain": [
       "      deficit budget\n",
       "0            25087.0\n",
       "1            77103.0\n",
       "2          -143501.0\n",
       "3           -31063.0\n",
       "4          -878807.0\n",
       "5           -79653.0\n",
       "6           112964.0\n",
       "7             6449.0\n",
       "8           -33413.0\n",
       "9           200657.0\n",
       "10             959.0\n",
       "11          -43312.0\n",
       "12          -26832.0\n",
       "13         -101910.0\n",
       "14         -122480.0\n",
       "15         -131840.0\n",
       "16           10433.0\n",
       "17          124820.0\n",
       "18          -21600.0\n",
       "19          -22050.0\n",
       "20          -39876.0\n",
       "21          272099.0\n",
       "22         -207551.0\n",
       "23         -296441.0\n",
       "24           -7284.0\n",
       "25         -153918.0\n",
       "26           47974.0\n",
       "27            8367.0\n",
       "28         -154575.0\n",
       "29           -3256.0\n",
       "...              ...\n",
       "1462        414013.0\n",
       "1463        414013.0\n",
       "1464        414013.0\n",
       "1465        414013.0\n",
       "1466        414013.0\n",
       "1467        414013.0\n",
       "1468        414013.0\n",
       "1469        414013.0\n",
       "1470        414013.0\n",
       "1471        414013.0\n",
       "1472        414013.0\n",
       "1473        414013.0\n",
       "1474        414013.0\n",
       "1475        414013.0\n",
       "1476        414013.0\n",
       "1477        414013.0\n",
       "1478        414013.0\n",
       "1479        414013.0\n",
       "1480        414013.0\n",
       "1481        414013.0\n",
       "1482        414013.0\n",
       "1483        414013.0\n",
       "1484        414013.0\n",
       "1485        414013.0\n",
       "1486        414013.0\n",
       "1487        414013.0\n",
       "1488        414013.0\n",
       "1489        414013.0\n",
       "1490        414013.0\n",
       "1491        414013.0\n",
       "\n",
       "[1492 rows x 1 columns]"
      ]
     },
     "execution_count": 26,
     "metadata": {},
     "output_type": "execute_result"
    }
   ],
   "source": [
    "deficit_budget"
   ]
  },
  {
   "cell_type": "code",
   "execution_count": 36,
   "metadata": {},
   "outputs": [
    {
     "data": {
      "image/png": "[encoded data removed]",
      "text/plain": [
       "<Figure size 432x288 with 1 Axes>"
      ]
     },
     "metadata": {
      "needs_background": "light"
     },
     "output_type": "display_data"
    }
   ],
   "source": [
    "plt.hist(deficit_budget)\n",
    "plt.show()"
   ]
  },
  {
   "cell_type": "markdown",
   "metadata": {},
   "source": [
    "Let's look up visualizations first."
   ]
  },
  {
   "cell_type": "code",
   "execution_count": 27,
   "metadata": {},
   "outputs": [],
   "source": [
    "winsorized_db = winsorize(deficit_budget, (0.025, 0.025))"
   ]
  },
  {
   "cell_type": "code",
   "execution_count": 28,
   "metadata": {},
   "outputs": [
    {
     "data": {
      "image/png": "[encoded data removed]",
      "text/plain": [
       "<Figure size 1080x504 with 3 Axes>"
      ]
     },
     "metadata": {
      "needs_background": "light"
     },
     "output_type": "display_data"
    }
   ],
   "source": [
    "plt.figure(figsize=(15,7))\n",
    "\n",
    "plt.subplot(1,3,1)\n",
    "plt.hist(winsorized_db, bins=25)\n",
    "plt.title('Winsorized Deficit Budget')\n",
    "\n",
    "plt.subplot(1,3,2)\n",
    "plt.boxplot(winsorized_db)\n",
    "plt.title('Winsorized, whis=1.5')\n",
    "\n",
    "plt.subplot(1,3,3)\n",
    "plt.hist(np.log(deficit_budget), bins=25)\n",
    "plt.title('Log-scaled')\n",
    "plt.show()"
   ]
  },
  {
   "cell_type": "markdown",
   "metadata": {},
   "source": [
    "The winsorized data is looked better than anything.  \n",
    "So, I am going to choose the winsorized data. And I would like to look the differences of Z-score and IQR between winsorized one and not purified one.  \n",
    "\n",
    "Okay, Let's see the original one."
   ]
  },
  {
   "cell_type": "code",
   "execution_count": 67,
   "metadata": {},
   "outputs": [
    {
     "name": "stdout",
     "output_type": "stream",
     "text": [
      "The score threshold is -5\n",
      "The number of outlier is : 1482 \n",
      "\n",
      "The score threshold is -4\n",
      "The number of outlier is : 1477 \n",
      "\n",
      "The score threshold is -3\n",
      "The number of outlier is : 1465 \n",
      "\n",
      "The score threshold is -2\n",
      "The number of outlier is : 1439 \n",
      "\n",
      "The score threshold is -1\n",
      "The number of outlier is : 1395 \n",
      "\n",
      "The score threshold is 0\n",
      "The number of outlier is : 905 \n",
      "\n",
      "The score threshold is 1\n",
      "The number of outlier is : 56 \n",
      "\n",
      "The score threshold is 2\n",
      "The number of outlier is : 17 \n",
      "\n",
      "The score threshold is 3\n",
      "The number of outlier is : 7 \n",
      "\n",
      "The score threshold is 4\n",
      "The number of outlier is : 3 \n",
      "\n"
     ]
    }
   ],
   "source": [
    "zscore_db = zscore(deficit_budget)\n",
    "\n",
    "for threshold in range(-5,5):\n",
    "    print('The score threshold is {}'.format(threshold))\n",
    "    print('The number of outlier is : {}'.format(len(np.where(zscore_db > threshold)[0])), '\\n')"
   ]
  },
  {
   "cell_type": "code",
   "execution_count": 53,
   "metadata": {},
   "outputs": [
    {
     "name": "stdout",
     "output_type": "stream",
     "text": [
      "The score threshold is 1.0\n",
      "Number of outliers is 198 \n",
      "\n",
      "The score threshold is 1.5\n",
      "Number of outliers is 129 \n",
      "\n",
      "The score threshold is 2.0\n",
      "Number of outliers is 101 \n",
      "\n",
      "The score threshold is 2.5\n",
      "Number of outliers is 82 \n",
      "\n",
      "The score threshold is 3.0\n",
      "Number of outliers is 67 \n",
      "\n",
      "The score threshold is 3.5\n",
      "Number of outliers is 52 \n",
      "\n",
      "The score threshold is 4.0\n",
      "Number of outliers is 43 \n",
      "\n",
      "The score threshold is 4.5\n",
      "Number of outliers is 38 \n",
      "\n"
     ]
    }
   ],
   "source": [
    "db_q75, db_q25 = np.percentile(deficit_budget, [75, 25])\n",
    "db_iqr = db_q75 - db_q25\n",
    "\n",
    "for threshold in np.arange(1,5,0.5):\n",
    "    db_min_val = db_q25 - (threshold*db_iqr)\n",
    "    db_max_val = db_q75 + (threshold*db_iqr)\n",
    "    print('The score threshold is {}'.format(threshold))\n",
    "    print('Number of outliers is {}'.format(len(np.where((deficit_budget > db_max_val) | (deficit_budget < db_min_val))[0])), '\\n')"
   ]
  },
  {
   "cell_type": "markdown",
   "metadata": {},
   "source": [
    "### 4. Now create another variable by subtracting the TOTAL_EXPENDITURE from TOTAL_REVENUE. This time, use the outlier eliminated versions of TOTAL_EXPENDITURE from TOTAL_REVENUE. In this newly created variable, can you find any outliers? If so, eliminate them."
   ]
  },
  {
   "cell_type": "markdown",
   "metadata": {},
   "source": [
    "Now, it is time for looking into winsorized date.  \n",
    "How it worked well on the data."
   ]
  },
  {
   "cell_type": "code",
   "execution_count": 66,
   "metadata": {},
   "outputs": [
    {
     "name": "stdout",
     "output_type": "stream",
     "text": [
      "The score threshold is -5\n",
      "The number of outlier is : 1492 \n",
      "\n",
      "The score threshold is -4\n",
      "The number of outlier is : 1492 \n",
      "\n",
      "The score threshold is -3\n",
      "The number of outlier is : 1443 \n",
      "\n",
      "The score threshold is -2\n",
      "The number of outlier is : 1419 \n",
      "\n",
      "The score threshold is -1\n",
      "The number of outlier is : 1346 \n",
      "\n",
      "The score threshold is 0\n",
      "The number of outlier is : 848 \n",
      "\n",
      "The score threshold is 1\n",
      "The number of outlier is : 298 \n",
      "\n",
      "The score threshold is 2\n",
      "The number of outlier is : 0 \n",
      "\n",
      "The score threshold is 3\n",
      "The number of outlier is : 0 \n",
      "\n",
      "The score threshold is 4\n",
      "The number of outlier is : 0 \n",
      "\n"
     ]
    }
   ],
   "source": [
    "zscore_wdb = zscore(winsorized_db)\n",
    "\n",
    "for threshold in range(-5,5):\n",
    "    print('The score threshold is {}'.format(threshold))\n",
    "    print('The number of outlier is : {}'.format(len(np.where(zscore_wdb > threshold)[0])), '\\n')"
   ]
  },
  {
   "cell_type": "code",
   "execution_count": 62,
   "metadata": {},
   "outputs": [
    {
     "name": "stdout",
     "output_type": "stream",
     "text": [
      "wdb_iqr : 324443.25 \n",
      "\n",
      "The score threshold is 1.0\n",
      "Number of outliers is 198 \n",
      "\n",
      "The score threshold is 1.5\n",
      "Number of outliers is 94 \n",
      "\n",
      "The score threshold is 2.0\n",
      "Number of outliers is 76 \n",
      "\n",
      "The score threshold is 2.5\n",
      "Number of outliers is 61 \n",
      "\n",
      "The score threshold is 3.0\n",
      "Number of outliers is 54 \n",
      "\n",
      "The score threshold is 3.5\n",
      "Number of outliers is 43 \n",
      "\n",
      "The score threshold is 4.0\n",
      "Number of outliers is 0 \n",
      "\n",
      "The score threshold is 4.5\n",
      "Number of outliers is 0 \n",
      "\n"
     ]
    }
   ],
   "source": [
    "wdb_q75, wdb_q25 = np.percentile(winsorized_db, [75, 25])\n",
    "wdb_iqr = wdb_q75 - wdb_q25\n",
    "print('wdb_iqr : {}'.format(wdb_iqr), '\\n')\n",
    "for threshold in np.arange(1,5,0.5):\n",
    "    wdb_min_val = wdb_q25 - (threshold*wdb_iqr)\n",
    "    wdb_max_val = wdb_q75 + (threshold*wdb_iqr)\n",
    "    print('The score threshold is {}'.format(threshold))\n",
    "    print('Number of outliers is {}'.format(len(np.where((winsorized_db > wdb_max_val) | (winsorized_db < wdb_min_val))[0])), '\\n')"
   ]
  },
  {
   "cell_type": "markdown",
   "metadata": {},
   "source": [
    "I can find some outlier around negative standard deviation.  \n",
    "<font color=red> I couldn't see whether it belong, but after I change the Z-score range from negative to positive, I could cleary check the outliers are existing on the negative SD. </font>"
   ]
  },
  {
   "cell_type": "markdown",
   "metadata": {},
   "source": [
    "### 5. Compare some basic descriptive statistics of the budget variables you end up with in the 3rd and the 4th questions. Do you see any differences?"
   ]
  },
  {
   "cell_type": "markdown",
   "metadata": {},
   "source": [
    "Yes, I could differentiate the differences explicitly.  \n",
    "Before we cleaned up the data, I mean raw data, the range and distribution looked like a non-normal distribution. However, after working on the data with winsorizing, the data shows looked like a normal distribution.  \n",
    "\n",
    "**Most of the data are concentrated between -3 sigma to 3 sigma, but there are still outliers, but smaller than before.**"
   ]
  },
  {
   "cell_type": "markdown",
   "metadata": {},
   "source": [
    "### 6. If our variable of interest is the budget deficit variable, which method do you think is the appropriate in dealing with the outliers in this variable: the method in the 3rd question or the one in the 4th question?"
   ]
  },
  {
   "cell_type": "markdown",
   "metadata": {},
   "source": [
    "In this case, as I checked the data with log-scale method and winsorizing, <font color=red> It shows that winsorizing was perfectly better than others. </font>"
   ]
  },
  {
   "cell_type": "code",
   "execution_count": null,
   "metadata": {},
   "outputs": [],
   "source": []
  }
 ],
 "metadata": {
  "kernelspec": {
   "display_name": "Python 3",
   "language": "python",
   "name": "python3"
  },
  "language_info": {
   "codemirror_mode": {
    "name": "ipython",
    "version": 3
   },
   "file_extension": ".py",
   "mimetype": "text/x-python",
   "name": "python",
   "nbconvert_exporter": "python",
   "pygments_lexer": "ipython3",
   "version": "3.7.3"
  }
 },
 "nbformat": 4,
 "nbformat_minor": 2
}
