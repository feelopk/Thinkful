{
 "cells": [
  {
   "cell_type": "markdown",
   "metadata": {},
   "source": [
    "### 1. Let's assume that you have World Bank data on financial, economic and social indicators for several countries. You want to measure the factors that affect the level of development in these countries. To this end, you decide to use per capita income as a proxy for the development level, which is defined as the national income divided by the population. You want to use some features in your dataset to predict per capita income. Is this task a classification or a regression task? Why? ###\n",
    "\n",
    "-> It seems like a regression task. Here are some reasons that I thought that way.  \n",
    "First, the feature what we want to use is comprised with numbers. Also the number could be infinite.  \n",
    "Second, the rest features in dataset to predict per capita income, those are also numeric variables.  \n",
    "In these reasons, this task belongs to regression."
   ]
  },
  {
   "cell_type": "markdown",
   "metadata": {},
   "source": [
    "### 2. Which of the following arguments are false and why? ###\n",
    " - OLS is a special type of linear regression models  \n",
    "  -> False, Because OLS has simple argorithms and widely used for other regression methods. Most of all OLS is not a type of model but an optimization algorithm.\n",
    "\n",
    "   \n",
    "   \n",
    " - Regression models become useless if they don’t meet the assumptions of linear regression.  \n",
    "  -> False. We can use the linear regression argorithm, Even the dataset doesn't match to the assumptions.\n",
    "  \n",
    "  \n",
    " - Estimation and prediction are the same thing in the context of linear regression models.  \n",
    "  -> False. For the regression cases, we normally use Root Mean Squared Error to evaluate the model. And prediction that means that we use our estimated model to predict other unobserved datasets.\n",
    "  \n",
    "  \n",
    " - Linear regression is only one kind of regression model. Regression problems can also be solved with other kind of models like Support Vector Machines or Random Forests.  \n",
    "  -> There are lots of regression models to solve and predict others. For instance, Linear Regression, Suport Vector Machine and Random Forest Regression."
   ]
  },
  {
   "cell_type": "markdown",
   "metadata": {},
   "source": [
    "### 3. Assume that your project manager wants you to discover which free services your company offers make your customers buy more of your paid services. Formulate this task as a regression problem and write down the potential outcome and features that you’d like to work on."
   ]
  },
  {
   "cell_type": "markdown",
   "metadata": {},
   "source": [
    "1) Features : Buying Q'ty by each free services, Buying Q'ty by each paid services  (It would be great to get the buying data monthly or weekly based.  \n",
    "\n",
    "2) Outcomes : $$total \\enspace expenditure = \\alpha + \\beta_1 \\enspace X \\enspace dummy \\enspace of \\enspace using \\enspace freeservice1 + \\beta_2 \\enspace X \\enspace dummy \\enspace of \\enspace using \\enspace freeservice2 $$"
   ]
  },
  {
   "cell_type": "code",
   "execution_count": null,
   "metadata": {},
   "outputs": [],
   "source": []
  }
 ],
 "metadata": {
  "kernelspec": {
   "display_name": "Python 3",
   "language": "python",
   "name": "python3"
  },
  "language_info": {
   "codemirror_mode": {
    "name": "ipython",
    "version": 3
   },
   "file_extension": ".py",
   "mimetype": "text/x-python",
   "name": "python",
   "nbconvert_exporter": "python",
   "pygments_lexer": "ipython3",
   "version": "3.7.3"
  }
 },
 "nbformat": 4,
 "nbformat_minor": 2
}
